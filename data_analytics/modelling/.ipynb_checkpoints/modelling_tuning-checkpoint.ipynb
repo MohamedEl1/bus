{
 "cells": [
  {
   "cell_type": "code",
   "execution_count": 1,
   "metadata": {},
   "outputs": [],
   "source": [
    "import pandas as pd, numpy as np, holidays, seaborn as sns, matplotlib.pyplot as plt, time, xgboost as xgb\n",
    "from sqlalchemy import create_engine\n",
    "from datetime import datetime\n",
    "from matplotlib import pyplot\n",
    "\n",
    "from sklearn.neural_network import MLPRegressor\n",
    "from sklearn.model_selection import train_test_split, GridSearchCV\n",
    "from sklearn.preprocessing import LabelEncoder, PolynomialFeatures\n",
    "from sklearn.feature_selection import SelectKBest, f_regression, chi2\n",
    "from sklearn.linear_model import LinearRegression\n",
    "from sklearn.pipeline import make_pipeline\n",
    "from sklearn import metrics\n",
    "\n",
    "from config import config"
   ]
  },
  {
   "cell_type": "code",
   "execution_count": 2,
   "metadata": {},
   "outputs": [],
   "source": [
    "config=config()\n",
    "engine=create_engine(\"postgresql://\"+config[\"user\"]+\":\"+config[\"password\"]+\"@\"+config[\"host\"]+\"/\"+config[\"database\"])"
   ]
  },
  {
   "cell_type": "code",
   "execution_count": 3,
   "metadata": {},
   "outputs": [],
   "source": [
    "line='15A'\n",
    "direction=1\n",
    "sql=(\"SELECT lt.daystamp, lt.progr_number, lt.stoppoint_id,lt.arrival_time_p,lt.arrival_time_a,\"\n",
    "    \"lt.departure_time_p,lt.departure_time_a,trips.route_id,\"\n",
    "     \"trips.arrival_time_p,trips.departure_time_p,trips.departure_time_a,\"\n",
    "     \"weather_main,temp,feels_like,temp_min,temp_max,pressure,humidity,wind_speed,wind_deg,clouds_all,weather_description \"\n",
    "     \"FROM leavetimes AS lt, trips, weather \"\n",
    "     \"WHERE trips.line_id='\"+line+\"' AND trips.direction=\"+str(direction)+\" AND trips.suppressed=0 \"\n",
    "     \"AND lt.daystamp = trips.daystamp AND lt.trip_id = trips.trip_id AND lt.suppressed=0\"\n",
    "     \"AND lt.weather_id = weather.daytime\")"
   ]
  },
  {
   "cell_type": "code",
   "execution_count": 5,
   "metadata": {},
   "outputs": [],
   "source": [
    "df = pd.read_sql(sql,engine)"
   ]
  },
  {
   "cell_type": "code",
   "execution_count": 6,
   "metadata": {},
   "outputs": [
    {
     "data": {
      "text/plain": [
       "(614114, 22)"
      ]
     },
     "execution_count": 6,
     "metadata": {},
     "output_type": "execute_result"
    }
   ],
   "source": [
    "df.shape"
   ]
  },
  {
   "cell_type": "code",
   "execution_count": 7,
   "metadata": {},
   "outputs": [
    {
     "data": {
      "text/html": [
       "<div>\n",
       "<style scoped>\n",
       "    .dataframe tbody tr th:only-of-type {\n",
       "        vertical-align: middle;\n",
       "    }\n",
       "\n",
       "    .dataframe tbody tr th {\n",
       "        vertical-align: top;\n",
       "    }\n",
       "\n",
       "    .dataframe thead th {\n",
       "        text-align: right;\n",
       "    }\n",
       "</style>\n",
       "<table border=\"1\" class=\"dataframe\">\n",
       "  <thead>\n",
       "    <tr style=\"text-align: right;\">\n",
       "      <th></th>\n",
       "      <th>daystamp</th>\n",
       "      <th>progr_number</th>\n",
       "      <th>stoppoint_id</th>\n",
       "      <th>arrival_time_p</th>\n",
       "      <th>arrival_time_a</th>\n",
       "      <th>departure_time_p</th>\n",
       "      <th>departure_time_a</th>\n",
       "      <th>route_id</th>\n",
       "      <th>arrival_time_p</th>\n",
       "      <th>departure_time_p</th>\n",
       "      <th>...</th>\n",
       "      <th>temp</th>\n",
       "      <th>feels_like</th>\n",
       "      <th>temp_min</th>\n",
       "      <th>temp_max</th>\n",
       "      <th>pressure</th>\n",
       "      <th>humidity</th>\n",
       "      <th>wind_speed</th>\n",
       "      <th>wind_deg</th>\n",
       "      <th>clouds_all</th>\n",
       "      <th>weather_description</th>\n",
       "    </tr>\n",
       "  </thead>\n",
       "  <tbody>\n",
       "    <tr>\n",
       "      <th>0</th>\n",
       "      <td>1518912000</td>\n",
       "      <td>1</td>\n",
       "      <td>395</td>\n",
       "      <td>57600</td>\n",
       "      <td>57655</td>\n",
       "      <td>57600</td>\n",
       "      <td>57655</td>\n",
       "      <td>83</td>\n",
       "      <td>59806</td>\n",
       "      <td>57600</td>\n",
       "      <td>...</td>\n",
       "      <td>9.76</td>\n",
       "      <td>5.5</td>\n",
       "      <td>8.43</td>\n",
       "      <td>10.0</td>\n",
       "      <td>1016</td>\n",
       "      <td>93</td>\n",
       "      <td>5.66</td>\n",
       "      <td>240</td>\n",
       "      <td>75</td>\n",
       "      <td>light intensity drizzle rain</td>\n",
       "    </tr>\n",
       "    <tr>\n",
       "      <th>1</th>\n",
       "      <td>1518912000</td>\n",
       "      <td>2</td>\n",
       "      <td>396</td>\n",
       "      <td>57662</td>\n",
       "      <td>57697</td>\n",
       "      <td>57662</td>\n",
       "      <td>57716</td>\n",
       "      <td>83</td>\n",
       "      <td>59806</td>\n",
       "      <td>57600</td>\n",
       "      <td>...</td>\n",
       "      <td>9.76</td>\n",
       "      <td>5.5</td>\n",
       "      <td>8.43</td>\n",
       "      <td>10.0</td>\n",
       "      <td>1016</td>\n",
       "      <td>93</td>\n",
       "      <td>5.66</td>\n",
       "      <td>240</td>\n",
       "      <td>75</td>\n",
       "      <td>light intensity drizzle rain</td>\n",
       "    </tr>\n",
       "    <tr>\n",
       "      <th>2</th>\n",
       "      <td>1518912000</td>\n",
       "      <td>3</td>\n",
       "      <td>397</td>\n",
       "      <td>57696</td>\n",
       "      <td>57820</td>\n",
       "      <td>57696</td>\n",
       "      <td>57837</td>\n",
       "      <td>83</td>\n",
       "      <td>59806</td>\n",
       "      <td>57600</td>\n",
       "      <td>...</td>\n",
       "      <td>9.76</td>\n",
       "      <td>5.5</td>\n",
       "      <td>8.43</td>\n",
       "      <td>10.0</td>\n",
       "      <td>1016</td>\n",
       "      <td>93</td>\n",
       "      <td>5.66</td>\n",
       "      <td>240</td>\n",
       "      <td>75</td>\n",
       "      <td>light intensity drizzle rain</td>\n",
       "    </tr>\n",
       "    <tr>\n",
       "      <th>3</th>\n",
       "      <td>1518912000</td>\n",
       "      <td>4</td>\n",
       "      <td>398</td>\n",
       "      <td>57746</td>\n",
       "      <td>57865</td>\n",
       "      <td>57746</td>\n",
       "      <td>57865</td>\n",
       "      <td>83</td>\n",
       "      <td>59806</td>\n",
       "      <td>57600</td>\n",
       "      <td>...</td>\n",
       "      <td>9.76</td>\n",
       "      <td>5.5</td>\n",
       "      <td>8.43</td>\n",
       "      <td>10.0</td>\n",
       "      <td>1016</td>\n",
       "      <td>93</td>\n",
       "      <td>5.66</td>\n",
       "      <td>240</td>\n",
       "      <td>75</td>\n",
       "      <td>light intensity drizzle rain</td>\n",
       "    </tr>\n",
       "    <tr>\n",
       "      <th>4</th>\n",
       "      <td>1518912000</td>\n",
       "      <td>5</td>\n",
       "      <td>399</td>\n",
       "      <td>57787</td>\n",
       "      <td>57887</td>\n",
       "      <td>57787</td>\n",
       "      <td>57914</td>\n",
       "      <td>83</td>\n",
       "      <td>59806</td>\n",
       "      <td>57600</td>\n",
       "      <td>...</td>\n",
       "      <td>9.76</td>\n",
       "      <td>5.5</td>\n",
       "      <td>8.43</td>\n",
       "      <td>10.0</td>\n",
       "      <td>1016</td>\n",
       "      <td>93</td>\n",
       "      <td>5.66</td>\n",
       "      <td>240</td>\n",
       "      <td>75</td>\n",
       "      <td>light intensity drizzle rain</td>\n",
       "    </tr>\n",
       "  </tbody>\n",
       "</table>\n",
       "<p>5 rows × 22 columns</p>\n",
       "</div>"
      ],
      "text/plain": [
       "     daystamp  progr_number  stoppoint_id  arrival_time_p  arrival_time_a  \\\n",
       "0  1518912000             1           395           57600           57655   \n",
       "1  1518912000             2           396           57662           57697   \n",
       "2  1518912000             3           397           57696           57820   \n",
       "3  1518912000             4           398           57746           57865   \n",
       "4  1518912000             5           399           57787           57887   \n",
       "\n",
       "   departure_time_p  departure_time_a  route_id  arrival_time_p  \\\n",
       "0             57600             57655        83           59806   \n",
       "1             57662             57716        83           59806   \n",
       "2             57696             57837        83           59806   \n",
       "3             57746             57865        83           59806   \n",
       "4             57787             57914        83           59806   \n",
       "\n",
       "   departure_time_p  ...  temp feels_like  temp_min  temp_max  pressure  \\\n",
       "0             57600  ...  9.76        5.5      8.43      10.0      1016   \n",
       "1             57600  ...  9.76        5.5      8.43      10.0      1016   \n",
       "2             57600  ...  9.76        5.5      8.43      10.0      1016   \n",
       "3             57600  ...  9.76        5.5      8.43      10.0      1016   \n",
       "4             57600  ...  9.76        5.5      8.43      10.0      1016   \n",
       "\n",
       "   humidity  wind_speed  wind_deg  clouds_all           weather_description  \n",
       "0        93        5.66       240          75  light intensity drizzle rain  \n",
       "1        93        5.66       240          75  light intensity drizzle rain  \n",
       "2        93        5.66       240          75  light intensity drizzle rain  \n",
       "3        93        5.66       240          75  light intensity drizzle rain  \n",
       "4        93        5.66       240          75  light intensity drizzle rain  \n",
       "\n",
       "[5 rows x 22 columns]"
      ]
     },
     "execution_count": 7,
     "metadata": {},
     "output_type": "execute_result"
    }
   ],
   "source": [
    "df.head()"
   ]
  },
  {
   "cell_type": "code",
   "execution_count": 8,
   "metadata": {},
   "outputs": [
    {
     "data": {
      "text/plain": [
       "['daystamp',\n",
       " 'progr_number',\n",
       " 'stoppoint_id',\n",
       " 'arrival_time_p',\n",
       " 'arrival_time_a',\n",
       " 'departure_time_p',\n",
       " 'departure_time_a',\n",
       " 'route_id',\n",
       " 'arrival_time_p',\n",
       " 'departure_time_p',\n",
       " 'departure_time_a',\n",
       " 'weather_main',\n",
       " 'temp',\n",
       " 'feels_like',\n",
       " 'temp_min',\n",
       " 'temp_max',\n",
       " 'pressure',\n",
       " 'humidity',\n",
       " 'wind_speed',\n",
       " 'wind_deg',\n",
       " 'clouds_all',\n",
       " 'weather_description']"
      ]
     },
     "execution_count": 8,
     "metadata": {},
     "output_type": "execute_result"
    }
   ],
   "source": [
    "features=list(df.columns)\n",
    "features"
   ]
  },
  {
   "cell_type": "code",
   "execution_count": 9,
   "metadata": {},
   "outputs": [],
   "source": [
    "features[0]=\"daystamp\"\n",
    "features[2]=\"stop_id\"\n",
    "features[3]=\"arr_p\"\n",
    "features[4]=\"arr_a\"\n",
    "features[5]=\"dep_p\"\n",
    "features[6]=\"dep_a\"\n",
    "features[8]=\"end_p\"\n",
    "features[9]=\"start_p\"\n",
    "features[10]=\"start_a\""
   ]
  },
  {
   "cell_type": "code",
   "execution_count": 10,
   "metadata": {},
   "outputs": [],
   "source": [
    "df.columns=features"
   ]
  },
  {
   "cell_type": "code",
   "execution_count": 11,
   "metadata": {},
   "outputs": [
    {
     "data": {
      "text/html": [
       "<div>\n",
       "<style scoped>\n",
       "    .dataframe tbody tr th:only-of-type {\n",
       "        vertical-align: middle;\n",
       "    }\n",
       "\n",
       "    .dataframe tbody tr th {\n",
       "        vertical-align: top;\n",
       "    }\n",
       "\n",
       "    .dataframe thead th {\n",
       "        text-align: right;\n",
       "    }\n",
       "</style>\n",
       "<table border=\"1\" class=\"dataframe\">\n",
       "  <thead>\n",
       "    <tr style=\"text-align: right;\">\n",
       "      <th></th>\n",
       "      <th>daystamp</th>\n",
       "      <th>progr_number</th>\n",
       "      <th>stop_id</th>\n",
       "      <th>arr_p</th>\n",
       "      <th>arr_a</th>\n",
       "      <th>dep_p</th>\n",
       "      <th>dep_a</th>\n",
       "      <th>route_id</th>\n",
       "      <th>end_p</th>\n",
       "      <th>start_p</th>\n",
       "      <th>...</th>\n",
       "      <th>temp</th>\n",
       "      <th>feels_like</th>\n",
       "      <th>temp_min</th>\n",
       "      <th>temp_max</th>\n",
       "      <th>pressure</th>\n",
       "      <th>humidity</th>\n",
       "      <th>wind_speed</th>\n",
       "      <th>wind_deg</th>\n",
       "      <th>clouds_all</th>\n",
       "      <th>weather_description</th>\n",
       "    </tr>\n",
       "  </thead>\n",
       "  <tbody>\n",
       "    <tr>\n",
       "      <th>0</th>\n",
       "      <td>1518912000</td>\n",
       "      <td>1</td>\n",
       "      <td>395</td>\n",
       "      <td>57600</td>\n",
       "      <td>57655</td>\n",
       "      <td>57600</td>\n",
       "      <td>57655</td>\n",
       "      <td>83</td>\n",
       "      <td>59806</td>\n",
       "      <td>57600</td>\n",
       "      <td>...</td>\n",
       "      <td>9.76</td>\n",
       "      <td>5.5</td>\n",
       "      <td>8.43</td>\n",
       "      <td>10.0</td>\n",
       "      <td>1016</td>\n",
       "      <td>93</td>\n",
       "      <td>5.66</td>\n",
       "      <td>240</td>\n",
       "      <td>75</td>\n",
       "      <td>light intensity drizzle rain</td>\n",
       "    </tr>\n",
       "    <tr>\n",
       "      <th>1</th>\n",
       "      <td>1518912000</td>\n",
       "      <td>2</td>\n",
       "      <td>396</td>\n",
       "      <td>57662</td>\n",
       "      <td>57697</td>\n",
       "      <td>57662</td>\n",
       "      <td>57716</td>\n",
       "      <td>83</td>\n",
       "      <td>59806</td>\n",
       "      <td>57600</td>\n",
       "      <td>...</td>\n",
       "      <td>9.76</td>\n",
       "      <td>5.5</td>\n",
       "      <td>8.43</td>\n",
       "      <td>10.0</td>\n",
       "      <td>1016</td>\n",
       "      <td>93</td>\n",
       "      <td>5.66</td>\n",
       "      <td>240</td>\n",
       "      <td>75</td>\n",
       "      <td>light intensity drizzle rain</td>\n",
       "    </tr>\n",
       "    <tr>\n",
       "      <th>2</th>\n",
       "      <td>1518912000</td>\n",
       "      <td>3</td>\n",
       "      <td>397</td>\n",
       "      <td>57696</td>\n",
       "      <td>57820</td>\n",
       "      <td>57696</td>\n",
       "      <td>57837</td>\n",
       "      <td>83</td>\n",
       "      <td>59806</td>\n",
       "      <td>57600</td>\n",
       "      <td>...</td>\n",
       "      <td>9.76</td>\n",
       "      <td>5.5</td>\n",
       "      <td>8.43</td>\n",
       "      <td>10.0</td>\n",
       "      <td>1016</td>\n",
       "      <td>93</td>\n",
       "      <td>5.66</td>\n",
       "      <td>240</td>\n",
       "      <td>75</td>\n",
       "      <td>light intensity drizzle rain</td>\n",
       "    </tr>\n",
       "    <tr>\n",
       "      <th>3</th>\n",
       "      <td>1518912000</td>\n",
       "      <td>4</td>\n",
       "      <td>398</td>\n",
       "      <td>57746</td>\n",
       "      <td>57865</td>\n",
       "      <td>57746</td>\n",
       "      <td>57865</td>\n",
       "      <td>83</td>\n",
       "      <td>59806</td>\n",
       "      <td>57600</td>\n",
       "      <td>...</td>\n",
       "      <td>9.76</td>\n",
       "      <td>5.5</td>\n",
       "      <td>8.43</td>\n",
       "      <td>10.0</td>\n",
       "      <td>1016</td>\n",
       "      <td>93</td>\n",
       "      <td>5.66</td>\n",
       "      <td>240</td>\n",
       "      <td>75</td>\n",
       "      <td>light intensity drizzle rain</td>\n",
       "    </tr>\n",
       "    <tr>\n",
       "      <th>4</th>\n",
       "      <td>1518912000</td>\n",
       "      <td>5</td>\n",
       "      <td>399</td>\n",
       "      <td>57787</td>\n",
       "      <td>57887</td>\n",
       "      <td>57787</td>\n",
       "      <td>57914</td>\n",
       "      <td>83</td>\n",
       "      <td>59806</td>\n",
       "      <td>57600</td>\n",
       "      <td>...</td>\n",
       "      <td>9.76</td>\n",
       "      <td>5.5</td>\n",
       "      <td>8.43</td>\n",
       "      <td>10.0</td>\n",
       "      <td>1016</td>\n",
       "      <td>93</td>\n",
       "      <td>5.66</td>\n",
       "      <td>240</td>\n",
       "      <td>75</td>\n",
       "      <td>light intensity drizzle rain</td>\n",
       "    </tr>\n",
       "  </tbody>\n",
       "</table>\n",
       "<p>5 rows × 22 columns</p>\n",
       "</div>"
      ],
      "text/plain": [
       "     daystamp  progr_number  stop_id  arr_p  arr_a  dep_p  dep_a  route_id  \\\n",
       "0  1518912000             1      395  57600  57655  57600  57655        83   \n",
       "1  1518912000             2      396  57662  57697  57662  57716        83   \n",
       "2  1518912000             3      397  57696  57820  57696  57837        83   \n",
       "3  1518912000             4      398  57746  57865  57746  57865        83   \n",
       "4  1518912000             5      399  57787  57887  57787  57914        83   \n",
       "\n",
       "   end_p  start_p  ...  temp feels_like  temp_min  temp_max  pressure  \\\n",
       "0  59806    57600  ...  9.76        5.5      8.43      10.0      1016   \n",
       "1  59806    57600  ...  9.76        5.5      8.43      10.0      1016   \n",
       "2  59806    57600  ...  9.76        5.5      8.43      10.0      1016   \n",
       "3  59806    57600  ...  9.76        5.5      8.43      10.0      1016   \n",
       "4  59806    57600  ...  9.76        5.5      8.43      10.0      1016   \n",
       "\n",
       "   humidity  wind_speed  wind_deg  clouds_all           weather_description  \n",
       "0        93        5.66       240          75  light intensity drizzle rain  \n",
       "1        93        5.66       240          75  light intensity drizzle rain  \n",
       "2        93        5.66       240          75  light intensity drizzle rain  \n",
       "3        93        5.66       240          75  light intensity drizzle rain  \n",
       "4        93        5.66       240          75  light intensity drizzle rain  \n",
       "\n",
       "[5 rows x 22 columns]"
      ]
     },
     "execution_count": 11,
     "metadata": {},
     "output_type": "execute_result"
    }
   ],
   "source": [
    "df.head()"
   ]
  },
  {
   "cell_type": "code",
   "execution_count": 12,
   "metadata": {},
   "outputs": [],
   "source": [
    "def daystamp_converter(time):\n",
    "    date=datetime.fromtimestamp(time)\n",
    "    holidays_IE=holidays.Ireland()\n",
    "    if date in holidays_IE:\n",
    "        holiday=1\n",
    "    else:\n",
    "        holiday=0\n",
    "    return (date.weekday(),date.month,date.hour,holiday)"
   ]
  },
  {
   "cell_type": "code",
   "execution_count": 13,
   "metadata": {},
   "outputs": [],
   "source": [
    "df[\"dt\"]=df.daystamp.values+df.dep_p.values"
   ]
  },
  {
   "cell_type": "code",
   "execution_count": 14,
   "metadata": {},
   "outputs": [],
   "source": [
    "df[\"weekday\"],df[\"month\"],df[\"hour\"],df[\"holiday\"]=zip(*df['dt'].apply(daystamp_converter))"
   ]
  },
  {
   "cell_type": "code",
   "execution_count": 15,
   "metadata": {},
   "outputs": [
    {
     "data": {
      "text/html": [
       "<div>\n",
       "<style scoped>\n",
       "    .dataframe tbody tr th:only-of-type {\n",
       "        vertical-align: middle;\n",
       "    }\n",
       "\n",
       "    .dataframe tbody tr th {\n",
       "        vertical-align: top;\n",
       "    }\n",
       "\n",
       "    .dataframe thead th {\n",
       "        text-align: right;\n",
       "    }\n",
       "</style>\n",
       "<table border=\"1\" class=\"dataframe\">\n",
       "  <thead>\n",
       "    <tr style=\"text-align: right;\">\n",
       "      <th></th>\n",
       "      <th>daystamp</th>\n",
       "      <th>progr_number</th>\n",
       "      <th>stop_id</th>\n",
       "      <th>arr_p</th>\n",
       "      <th>arr_a</th>\n",
       "      <th>dep_p</th>\n",
       "      <th>dep_a</th>\n",
       "      <th>route_id</th>\n",
       "      <th>end_p</th>\n",
       "      <th>start_p</th>\n",
       "      <th>...</th>\n",
       "      <th>humidity</th>\n",
       "      <th>wind_speed</th>\n",
       "      <th>wind_deg</th>\n",
       "      <th>clouds_all</th>\n",
       "      <th>weather_description</th>\n",
       "      <th>dt</th>\n",
       "      <th>weekday</th>\n",
       "      <th>month</th>\n",
       "      <th>hour</th>\n",
       "      <th>holiday</th>\n",
       "    </tr>\n",
       "  </thead>\n",
       "  <tbody>\n",
       "    <tr>\n",
       "      <th>0</th>\n",
       "      <td>1518912000</td>\n",
       "      <td>1</td>\n",
       "      <td>395</td>\n",
       "      <td>57600</td>\n",
       "      <td>57655</td>\n",
       "      <td>57600</td>\n",
       "      <td>57655</td>\n",
       "      <td>83</td>\n",
       "      <td>59806</td>\n",
       "      <td>57600</td>\n",
       "      <td>...</td>\n",
       "      <td>93</td>\n",
       "      <td>5.66</td>\n",
       "      <td>240</td>\n",
       "      <td>75</td>\n",
       "      <td>light intensity drizzle rain</td>\n",
       "      <td>1518969600</td>\n",
       "      <td>6</td>\n",
       "      <td>2</td>\n",
       "      <td>16</td>\n",
       "      <td>0</td>\n",
       "    </tr>\n",
       "    <tr>\n",
       "      <th>1</th>\n",
       "      <td>1518912000</td>\n",
       "      <td>2</td>\n",
       "      <td>396</td>\n",
       "      <td>57662</td>\n",
       "      <td>57697</td>\n",
       "      <td>57662</td>\n",
       "      <td>57716</td>\n",
       "      <td>83</td>\n",
       "      <td>59806</td>\n",
       "      <td>57600</td>\n",
       "      <td>...</td>\n",
       "      <td>93</td>\n",
       "      <td>5.66</td>\n",
       "      <td>240</td>\n",
       "      <td>75</td>\n",
       "      <td>light intensity drizzle rain</td>\n",
       "      <td>1518969662</td>\n",
       "      <td>6</td>\n",
       "      <td>2</td>\n",
       "      <td>16</td>\n",
       "      <td>0</td>\n",
       "    </tr>\n",
       "    <tr>\n",
       "      <th>2</th>\n",
       "      <td>1518912000</td>\n",
       "      <td>3</td>\n",
       "      <td>397</td>\n",
       "      <td>57696</td>\n",
       "      <td>57820</td>\n",
       "      <td>57696</td>\n",
       "      <td>57837</td>\n",
       "      <td>83</td>\n",
       "      <td>59806</td>\n",
       "      <td>57600</td>\n",
       "      <td>...</td>\n",
       "      <td>93</td>\n",
       "      <td>5.66</td>\n",
       "      <td>240</td>\n",
       "      <td>75</td>\n",
       "      <td>light intensity drizzle rain</td>\n",
       "      <td>1518969696</td>\n",
       "      <td>6</td>\n",
       "      <td>2</td>\n",
       "      <td>16</td>\n",
       "      <td>0</td>\n",
       "    </tr>\n",
       "    <tr>\n",
       "      <th>3</th>\n",
       "      <td>1518912000</td>\n",
       "      <td>4</td>\n",
       "      <td>398</td>\n",
       "      <td>57746</td>\n",
       "      <td>57865</td>\n",
       "      <td>57746</td>\n",
       "      <td>57865</td>\n",
       "      <td>83</td>\n",
       "      <td>59806</td>\n",
       "      <td>57600</td>\n",
       "      <td>...</td>\n",
       "      <td>93</td>\n",
       "      <td>5.66</td>\n",
       "      <td>240</td>\n",
       "      <td>75</td>\n",
       "      <td>light intensity drizzle rain</td>\n",
       "      <td>1518969746</td>\n",
       "      <td>6</td>\n",
       "      <td>2</td>\n",
       "      <td>16</td>\n",
       "      <td>0</td>\n",
       "    </tr>\n",
       "    <tr>\n",
       "      <th>4</th>\n",
       "      <td>1518912000</td>\n",
       "      <td>5</td>\n",
       "      <td>399</td>\n",
       "      <td>57787</td>\n",
       "      <td>57887</td>\n",
       "      <td>57787</td>\n",
       "      <td>57914</td>\n",
       "      <td>83</td>\n",
       "      <td>59806</td>\n",
       "      <td>57600</td>\n",
       "      <td>...</td>\n",
       "      <td>93</td>\n",
       "      <td>5.66</td>\n",
       "      <td>240</td>\n",
       "      <td>75</td>\n",
       "      <td>light intensity drizzle rain</td>\n",
       "      <td>1518969787</td>\n",
       "      <td>6</td>\n",
       "      <td>2</td>\n",
       "      <td>16</td>\n",
       "      <td>0</td>\n",
       "    </tr>\n",
       "  </tbody>\n",
       "</table>\n",
       "<p>5 rows × 27 columns</p>\n",
       "</div>"
      ],
      "text/plain": [
       "     daystamp  progr_number  stop_id  arr_p  arr_a  dep_p  dep_a  route_id  \\\n",
       "0  1518912000             1      395  57600  57655  57600  57655        83   \n",
       "1  1518912000             2      396  57662  57697  57662  57716        83   \n",
       "2  1518912000             3      397  57696  57820  57696  57837        83   \n",
       "3  1518912000             4      398  57746  57865  57746  57865        83   \n",
       "4  1518912000             5      399  57787  57887  57787  57914        83   \n",
       "\n",
       "   end_p  start_p  ...  humidity wind_speed  wind_deg  clouds_all  \\\n",
       "0  59806    57600  ...        93       5.66       240          75   \n",
       "1  59806    57600  ...        93       5.66       240          75   \n",
       "2  59806    57600  ...        93       5.66       240          75   \n",
       "3  59806    57600  ...        93       5.66       240          75   \n",
       "4  59806    57600  ...        93       5.66       240          75   \n",
       "\n",
       "            weather_description          dt  weekday  month  hour  holiday  \n",
       "0  light intensity drizzle rain  1518969600        6      2    16        0  \n",
       "1  light intensity drizzle rain  1518969662        6      2    16        0  \n",
       "2  light intensity drizzle rain  1518969696        6      2    16        0  \n",
       "3  light intensity drizzle rain  1518969746        6      2    16        0  \n",
       "4  light intensity drizzle rain  1518969787        6      2    16        0  \n",
       "\n",
       "[5 rows x 27 columns]"
      ]
     },
     "execution_count": 15,
     "metadata": {},
     "output_type": "execute_result"
    }
   ],
   "source": [
    "df.head()"
   ]
  },
  {
   "cell_type": "code",
   "execution_count": 16,
   "metadata": {},
   "outputs": [],
   "source": [
    "df[\"dur_s\"]=df.dep_p.values-df.start_p.values\n",
    "df[\"dur_a\"]=df.dep_a.values-df.start_a.values"
   ]
  },
  {
   "cell_type": "markdown",
   "metadata": {},
   "source": [
    "<h3>Feature Cleaning</h3>"
   ]
  },
  {
   "cell_type": "markdown",
   "metadata": {},
   "source": [
    "Filter out unusual routes:"
   ]
  },
  {
   "cell_type": "code",
   "execution_count": 17,
   "metadata": {},
   "outputs": [
    {
     "name": "stdout",
     "output_type": "stream",
     "text": [
      "1 most common route(s) cover 100.00% of the routes.\n"
     ]
    }
   ],
   "source": [
    "route_counts=df.route_id.value_counts()\n",
    "indices=route_counts.index\n",
    "values=route_counts.values\n",
    "cum_value=0\n",
    "size=df.shape[0]\n",
    "index=1\n",
    "for value in values:\n",
    "    cum_value+=value\n",
    "    ratio=cum_value/size\n",
    "    print(f\"{index} most common route(s) cover {ratio*100:.2f}% of the routes.\")\n",
    "    if(ratio>0.8):\n",
    "        break\n",
    "    index+=1"
   ]
  },
  {
   "cell_type": "code",
   "execution_count": 18,
   "metadata": {},
   "outputs": [
    {
     "data": {
      "text/plain": [
       "Int64Index([83], dtype='int64')"
      ]
     },
     "execution_count": 18,
     "metadata": {},
     "output_type": "execute_result"
    }
   ],
   "source": [
    "routes=indices[:index]\n",
    "routes"
   ]
  },
  {
   "cell_type": "code",
   "execution_count": 19,
   "metadata": {
    "scrolled": true
   },
   "outputs": [],
   "source": [
    "df_clean=df[df.route_id.isin(routes)]"
   ]
  },
  {
   "cell_type": "code",
   "execution_count": 20,
   "metadata": {},
   "outputs": [
    {
     "data": {
      "text/plain": [
       "(614114, 29)"
      ]
     },
     "execution_count": 20,
     "metadata": {},
     "output_type": "execute_result"
    }
   ],
   "source": [
    "df_clean.shape"
   ]
  },
  {
   "cell_type": "markdown",
   "metadata": {},
   "source": [
    "Check for null values"
   ]
  },
  {
   "cell_type": "code",
   "execution_count": 21,
   "metadata": {},
   "outputs": [
    {
     "data": {
      "text/plain": [
       "daystamp                   0\n",
       "progr_number               0\n",
       "stop_id                    0\n",
       "arr_p                      0\n",
       "arr_a                      0\n",
       "dep_p                      0\n",
       "dep_a                      0\n",
       "route_id                   0\n",
       "end_p                      0\n",
       "start_p                    0\n",
       "start_a                17943\n",
       "weather_main               0\n",
       "temp                       0\n",
       "feels_like                 0\n",
       "temp_min                   0\n",
       "temp_max                   0\n",
       "pressure                   0\n",
       "humidity                   0\n",
       "wind_speed                 0\n",
       "wind_deg                   0\n",
       "clouds_all                 0\n",
       "weather_description        0\n",
       "dt                         0\n",
       "weekday                    0\n",
       "month                      0\n",
       "hour                       0\n",
       "holiday                    0\n",
       "dur_s                      0\n",
       "dur_a                  17943\n",
       "dtype: int64"
      ]
     },
     "execution_count": 21,
     "metadata": {},
     "output_type": "execute_result"
    }
   ],
   "source": [
    "df_clean.isnull().sum()"
   ]
  },
  {
   "cell_type": "code",
   "execution_count": 22,
   "metadata": {},
   "outputs": [
    {
     "data": {
      "text/plain": [
       "0.058435404501444355"
      ]
     },
     "execution_count": 22,
     "metadata": {},
     "output_type": "execute_result"
    }
   ],
   "source": [
    "df_clean.isnull().sum().sum()/df_clean.shape[0]"
   ]
  },
  {
   "cell_type": "code",
   "execution_count": 23,
   "metadata": {},
   "outputs": [],
   "source": [
    "df_clean = df_clean.dropna(axis = 0, how ='any') "
   ]
  },
  {
   "cell_type": "markdown",
   "metadata": {},
   "source": [
    "See how resulting stops line up:"
   ]
  },
  {
   "cell_type": "code",
   "execution_count": 24,
   "metadata": {},
   "outputs": [],
   "source": [
    "stop_counts=df_clean.stop_id.value_counts()"
   ]
  },
  {
   "cell_type": "code",
   "execution_count": 25,
   "metadata": {},
   "outputs": [
    {
     "data": {
      "text/plain": [
       "395     15405\n",
       "398     15335\n",
       "399     15330\n",
       "1020    15310\n",
       "1076    15310\n",
       "1018    15310\n",
       "1019    15309\n",
       "1077    15309\n",
       "1078    15306\n",
       "1017    15304\n",
       "1079    15300\n",
       "1080    15300\n",
       "1081    15299\n",
       "1096    15297\n",
       "1082    15297\n",
       "1086    15297\n",
       "1095    15296\n",
       "1093    15296\n",
       "1094    15295\n",
       "1092    15295\n",
       "1091    15295\n",
       "1085    15293\n",
       "1083    15293\n",
       "1090    15281\n",
       "396     15280\n",
       "1016    15278\n",
       "1089    15275\n",
       "1088    15275\n",
       "1087    15274\n",
       "397     15267\n",
       "7581    15264\n",
       "1101    15260\n",
       "7579    15258\n",
       "1283    15257\n",
       "1285    15254\n",
       "400     15248\n",
       "1102    15208\n",
       "1103    15208\n",
       "1104    15203\n",
       "Name: stop_id, dtype: int64"
      ]
     },
     "execution_count": 25,
     "metadata": {},
     "output_type": "execute_result"
    }
   ],
   "source": [
    "stop_counts"
   ]
  },
  {
   "cell_type": "code",
   "execution_count": 26,
   "metadata": {},
   "outputs": [
    {
     "data": {
      "text/plain": [
       "0.9868873742291464"
      ]
     },
     "execution_count": 26,
     "metadata": {},
     "output_type": "execute_result"
    }
   ],
   "source": [
    "min(stop_counts)/max(stop_counts)"
   ]
  },
  {
   "cell_type": "markdown",
   "metadata": {},
   "source": [
    "examine distribution and cardinality of features"
   ]
  },
  {
   "cell_type": "code",
   "execution_count": 27,
   "metadata": {},
   "outputs": [],
   "source": [
    "categorical=[\"stop_id\",\"route_id\",\"weather_main\",\"weather_description\",\"weekday\",\"month\",\"hour\",\"holiday\"]\n",
    "df_clean[categorical]=df_clean[categorical].astype(\"category\")\n",
    "ints=['daystamp','progr_number','arr_p','arr_a','dep_p','dep_a','dur_s','dur_a','pressure','humidity','wind_deg','clouds_all']\n",
    "floats=['temp','feels_like','temp_min','temp_max','wind_speed']"
   ]
  },
  {
   "cell_type": "code",
   "execution_count": 28,
   "metadata": {},
   "outputs": [
    {
     "data": {
      "text/html": [
       "<div>\n",
       "<style scoped>\n",
       "    .dataframe tbody tr th:only-of-type {\n",
       "        vertical-align: middle;\n",
       "    }\n",
       "\n",
       "    .dataframe tbody tr th {\n",
       "        vertical-align: top;\n",
       "    }\n",
       "\n",
       "    .dataframe thead th {\n",
       "        text-align: right;\n",
       "    }\n",
       "</style>\n",
       "<table border=\"1\" class=\"dataframe\">\n",
       "  <thead>\n",
       "    <tr style=\"text-align: right;\">\n",
       "      <th></th>\n",
       "      <th>stop_id</th>\n",
       "      <th>route_id</th>\n",
       "      <th>weather_main</th>\n",
       "      <th>weather_description</th>\n",
       "      <th>weekday</th>\n",
       "      <th>month</th>\n",
       "      <th>hour</th>\n",
       "      <th>holiday</th>\n",
       "    </tr>\n",
       "  </thead>\n",
       "  <tbody>\n",
       "    <tr>\n",
       "      <th>count</th>\n",
       "      <td>596171</td>\n",
       "      <td>596171</td>\n",
       "      <td>596171</td>\n",
       "      <td>596171</td>\n",
       "      <td>596171</td>\n",
       "      <td>596171</td>\n",
       "      <td>596171</td>\n",
       "      <td>596171</td>\n",
       "    </tr>\n",
       "    <tr>\n",
       "      <th>unique</th>\n",
       "      <td>39</td>\n",
       "      <td>1</td>\n",
       "      <td>8</td>\n",
       "      <td>20</td>\n",
       "      <td>7</td>\n",
       "      <td>12</td>\n",
       "      <td>20</td>\n",
       "      <td>2</td>\n",
       "    </tr>\n",
       "    <tr>\n",
       "      <th>top</th>\n",
       "      <td>395</td>\n",
       "      <td>83</td>\n",
       "      <td>Clouds</td>\n",
       "      <td>broken clouds</td>\n",
       "      <td>1</td>\n",
       "      <td>1</td>\n",
       "      <td>18</td>\n",
       "      <td>0</td>\n",
       "    </tr>\n",
       "    <tr>\n",
       "      <th>freq</th>\n",
       "      <td>15405</td>\n",
       "      <td>596171</td>\n",
       "      <td>472762</td>\n",
       "      <td>294019</td>\n",
       "      <td>94266</td>\n",
       "      <td>52557</td>\n",
       "      <td>44109</td>\n",
       "      <td>585959</td>\n",
       "    </tr>\n",
       "  </tbody>\n",
       "</table>\n",
       "</div>"
      ],
      "text/plain": [
       "        stop_id  route_id weather_main weather_description  weekday   month  \\\n",
       "count    596171    596171       596171              596171   596171  596171   \n",
       "unique       39         1            8                  20        7      12   \n",
       "top         395        83       Clouds       broken clouds        1       1   \n",
       "freq      15405    596171       472762              294019    94266   52557   \n",
       "\n",
       "          hour  holiday  \n",
       "count   596171   596171  \n",
       "unique      20        2  \n",
       "top         18        0  \n",
       "freq     44109   585959  "
      ]
     },
     "execution_count": 28,
     "metadata": {},
     "output_type": "execute_result"
    }
   ],
   "source": [
    "df_clean[categorical].describe()"
   ]
  },
  {
   "cell_type": "code",
   "execution_count": 29,
   "metadata": {},
   "outputs": [
    {
     "name": "stdout",
     "output_type": "stream",
     "text": [
      "Distribution for feature stop_id:\n",
      "395     15405\n",
      "398     15335\n",
      "399     15330\n",
      "1076    15310\n",
      "1018    15310\n",
      "1020    15310\n",
      "1019    15309\n",
      "1077    15309\n",
      "1078    15306\n",
      "1017    15304\n",
      "1080    15300\n",
      "1079    15300\n",
      "1081    15299\n",
      "1082    15297\n",
      "1086    15297\n",
      "1096    15297\n",
      "1093    15296\n",
      "1095    15296\n",
      "1091    15295\n",
      "1092    15295\n",
      "1094    15295\n",
      "1085    15293\n",
      "1083    15293\n",
      "1090    15281\n",
      "396     15280\n",
      "1016    15278\n",
      "1088    15275\n",
      "1089    15275\n",
      "1087    15274\n",
      "397     15267\n",
      "7581    15264\n",
      "1101    15260\n",
      "7579    15258\n",
      "1283    15257\n",
      "1285    15254\n",
      "400     15248\n",
      "1102    15208\n",
      "1103    15208\n",
      "1104    15203\n",
      "Name: stop_id, dtype: int64\n",
      "\n",
      "Distribution for feature route_id:\n",
      "83    596171\n",
      "Name: route_id, dtype: int64\n",
      "\n",
      "Distribution for feature weather_main:\n",
      "Clouds     472762\n",
      "Rain        67290\n",
      "Drizzle     31157\n",
      "Clear       14156\n",
      "Fog          3840\n",
      "Mist         3435\n",
      "Snow         3409\n",
      "Smoke         122\n",
      "Name: weather_main, dtype: int64\n",
      "\n",
      "Distribution for feature weather_description:\n",
      "broken clouds                   294019\n",
      "scattered clouds                 87438\n",
      "few clouds                       80876\n",
      "light rain                       38440\n",
      "light intensity drizzle          18492\n",
      "light intensity shower rain      15917\n",
      "sky is clear                     14156\n",
      "light intensity drizzle rain     12638\n",
      "proximity shower rain            11235\n",
      "overcast clouds                  10429\n",
      "fog                               3840\n",
      "mist                              3435\n",
      "light shower snow                 2411\n",
      "moderate rain                     1560\n",
      " light shower sleet                791\n",
      "light snow                         207\n",
      "smoke                              122\n",
      "heavy intensity rain               107\n",
      "shower rain                         31\n",
      "drizzle                             27\n",
      "Name: weather_description, dtype: int64\n",
      "\n",
      "Distribution for feature weekday:\n",
      "1    94266\n",
      "2    92436\n",
      "0    91101\n",
      "4    90823\n",
      "3    89245\n",
      "5    81949\n",
      "6    56351\n",
      "Name: weekday, dtype: int64\n",
      "\n",
      "Distribution for feature month:\n",
      "1     52557\n",
      "10    51610\n",
      "6     51481\n",
      "11    51377\n",
      "7     51177\n",
      "5     51049\n",
      "8     50232\n",
      "4     49853\n",
      "9     48257\n",
      "2     47479\n",
      "12    46059\n",
      "3     45040\n",
      "Name: month, dtype: int64\n",
      "\n",
      "Distribution for feature hour:\n",
      "18    44109\n",
      "17    40051\n",
      "7     37944\n",
      "8     37243\n",
      "14    36961\n",
      "13    36289\n",
      "16    36019\n",
      "10    35582\n",
      "11    34856\n",
      "15    34638\n",
      "9     34567\n",
      "12    34006\n",
      "19    31855\n",
      "21    26478\n",
      "23    26366\n",
      "22    26104\n",
      "20    24654\n",
      "6     16247\n",
      "0      2201\n",
      "1         1\n",
      "Name: hour, dtype: int64\n",
      "\n",
      "Distribution for feature holiday:\n",
      "0    585959\n",
      "1     10212\n",
      "Name: holiday, dtype: int64\n",
      "\n"
     ]
    }
   ],
   "source": [
    "for feature in categorical:\n",
    "    print(f\"Distribution for feature {feature}:\")\n",
    "    print(df_clean[feature].value_counts())\n",
    "    print(\"\")"
   ]
  },
  {
   "cell_type": "markdown",
   "metadata": {},
   "source": [
    "Question here is whether the added granularity from weather_main to weather_description is worth the added cardinality of 12.\n",
    "Cardinality of 1 for route_id means that it can be dropped safely."
   ]
  },
  {
   "cell_type": "code",
   "execution_count": 30,
   "metadata": {},
   "outputs": [],
   "source": [
    "df_clean=df_clean.drop([\"route_id\"],axis=1)"
   ]
  },
  {
   "cell_type": "code",
   "execution_count": 31,
   "metadata": {},
   "outputs": [],
   "source": [
    "df_clean[ints]=df_clean[ints].astype('int64')"
   ]
  },
  {
   "cell_type": "code",
   "execution_count": 32,
   "metadata": {},
   "outputs": [
    {
     "data": {
      "text/html": [
       "<div>\n",
       "<style scoped>\n",
       "    .dataframe tbody tr th:only-of-type {\n",
       "        vertical-align: middle;\n",
       "    }\n",
       "\n",
       "    .dataframe tbody tr th {\n",
       "        vertical-align: top;\n",
       "    }\n",
       "\n",
       "    .dataframe thead th {\n",
       "        text-align: right;\n",
       "    }\n",
       "</style>\n",
       "<table border=\"1\" class=\"dataframe\">\n",
       "  <thead>\n",
       "    <tr style=\"text-align: right;\">\n",
       "      <th></th>\n",
       "      <th>daystamp</th>\n",
       "      <th>progr_number</th>\n",
       "      <th>arr_p</th>\n",
       "      <th>arr_a</th>\n",
       "      <th>dep_p</th>\n",
       "      <th>dep_a</th>\n",
       "      <th>dur_s</th>\n",
       "      <th>dur_a</th>\n",
       "      <th>pressure</th>\n",
       "      <th>humidity</th>\n",
       "      <th>wind_deg</th>\n",
       "      <th>clouds_all</th>\n",
       "    </tr>\n",
       "  </thead>\n",
       "  <tbody>\n",
       "    <tr>\n",
       "      <th>count</th>\n",
       "      <td>5.961710e+05</td>\n",
       "      <td>596171.000000</td>\n",
       "      <td>596171.000000</td>\n",
       "      <td>596171.000000</td>\n",
       "      <td>596171.000000</td>\n",
       "      <td>596171.000000</td>\n",
       "      <td>596171.000000</td>\n",
       "      <td>596171.000000</td>\n",
       "      <td>596171.000000</td>\n",
       "      <td>596171.000000</td>\n",
       "      <td>596171.000000</td>\n",
       "      <td>596171.000000</td>\n",
       "    </tr>\n",
       "    <tr>\n",
       "      <th>mean</th>\n",
       "      <td>1.530427e+09</td>\n",
       "      <td>19.989379</td>\n",
       "      <td>53522.434813</td>\n",
       "      <td>53767.061392</td>\n",
       "      <td>53522.434813</td>\n",
       "      <td>53779.043325</td>\n",
       "      <td>1386.999846</td>\n",
       "      <td>1540.444844</td>\n",
       "      <td>1012.727028</td>\n",
       "      <td>77.037092</td>\n",
       "      <td>190.340342</td>\n",
       "      <td>60.610234</td>\n",
       "    </tr>\n",
       "    <tr>\n",
       "      <th>std</th>\n",
       "      <td>9.056187e+06</td>\n",
       "      <td>11.251731</td>\n",
       "      <td>17602.012182</td>\n",
       "      <td>17608.071716</td>\n",
       "      <td>17602.012182</td>\n",
       "      <td>17611.159007</td>\n",
       "      <td>776.516869</td>\n",
       "      <td>889.372075</td>\n",
       "      <td>11.703424</td>\n",
       "      <td>13.524969</td>\n",
       "      <td>89.130387</td>\n",
       "      <td>23.271634</td>\n",
       "    </tr>\n",
       "    <tr>\n",
       "      <th>min</th>\n",
       "      <td>1.514765e+09</td>\n",
       "      <td>1.000000</td>\n",
       "      <td>21600.000000</td>\n",
       "      <td>21374.000000</td>\n",
       "      <td>21600.000000</td>\n",
       "      <td>21374.000000</td>\n",
       "      <td>0.000000</td>\n",
       "      <td>-6885.000000</td>\n",
       "      <td>979.000000</td>\n",
       "      <td>25.000000</td>\n",
       "      <td>0.000000</td>\n",
       "      <td>0.000000</td>\n",
       "    </tr>\n",
       "    <tr>\n",
       "      <th>25%</th>\n",
       "      <td>1.522710e+09</td>\n",
       "      <td>10.000000</td>\n",
       "      <td>38338.000000</td>\n",
       "      <td>38523.000000</td>\n",
       "      <td>38338.000000</td>\n",
       "      <td>38531.000000</td>\n",
       "      <td>874.000000</td>\n",
       "      <td>956.000000</td>\n",
       "      <td>1005.000000</td>\n",
       "      <td>68.000000</td>\n",
       "      <td>130.000000</td>\n",
       "      <td>40.000000</td>\n",
       "    </tr>\n",
       "    <tr>\n",
       "      <th>50%</th>\n",
       "      <td>1.530400e+09</td>\n",
       "      <td>20.000000</td>\n",
       "      <td>53414.000000</td>\n",
       "      <td>53675.000000</td>\n",
       "      <td>53414.000000</td>\n",
       "      <td>53689.000000</td>\n",
       "      <td>1423.000000</td>\n",
       "      <td>1563.000000</td>\n",
       "      <td>1014.000000</td>\n",
       "      <td>77.000000</td>\n",
       "      <td>210.000000</td>\n",
       "      <td>75.000000</td>\n",
       "    </tr>\n",
       "    <tr>\n",
       "      <th>75%</th>\n",
       "      <td>1.538348e+09</td>\n",
       "      <td>30.000000</td>\n",
       "      <td>67413.000000</td>\n",
       "      <td>67822.000000</td>\n",
       "      <td>67413.000000</td>\n",
       "      <td>67839.000000</td>\n",
       "      <td>1941.000000</td>\n",
       "      <td>2141.000000</td>\n",
       "      <td>1021.000000</td>\n",
       "      <td>87.000000</td>\n",
       "      <td>260.000000</td>\n",
       "      <td>75.000000</td>\n",
       "    </tr>\n",
       "    <tr>\n",
       "      <th>max</th>\n",
       "      <td>1.546214e+09</td>\n",
       "      <td>39.000000</td>\n",
       "      <td>86918.000000</td>\n",
       "      <td>87654.000000</td>\n",
       "      <td>86918.000000</td>\n",
       "      <td>87654.000000</td>\n",
       "      <td>3826.000000</td>\n",
       "      <td>10373.000000</td>\n",
       "      <td>1041.000000</td>\n",
       "      <td>100.000000</td>\n",
       "      <td>360.000000</td>\n",
       "      <td>100.000000</td>\n",
       "    </tr>\n",
       "  </tbody>\n",
       "</table>\n",
       "</div>"
      ],
      "text/plain": [
       "           daystamp   progr_number          arr_p          arr_a  \\\n",
       "count  5.961710e+05  596171.000000  596171.000000  596171.000000   \n",
       "mean   1.530427e+09      19.989379   53522.434813   53767.061392   \n",
       "std    9.056187e+06      11.251731   17602.012182   17608.071716   \n",
       "min    1.514765e+09       1.000000   21600.000000   21374.000000   \n",
       "25%    1.522710e+09      10.000000   38338.000000   38523.000000   \n",
       "50%    1.530400e+09      20.000000   53414.000000   53675.000000   \n",
       "75%    1.538348e+09      30.000000   67413.000000   67822.000000   \n",
       "max    1.546214e+09      39.000000   86918.000000   87654.000000   \n",
       "\n",
       "               dep_p          dep_a          dur_s          dur_a  \\\n",
       "count  596171.000000  596171.000000  596171.000000  596171.000000   \n",
       "mean    53522.434813   53779.043325    1386.999846    1540.444844   \n",
       "std     17602.012182   17611.159007     776.516869     889.372075   \n",
       "min     21600.000000   21374.000000       0.000000   -6885.000000   \n",
       "25%     38338.000000   38531.000000     874.000000     956.000000   \n",
       "50%     53414.000000   53689.000000    1423.000000    1563.000000   \n",
       "75%     67413.000000   67839.000000    1941.000000    2141.000000   \n",
       "max     86918.000000   87654.000000    3826.000000   10373.000000   \n",
       "\n",
       "            pressure       humidity       wind_deg     clouds_all  \n",
       "count  596171.000000  596171.000000  596171.000000  596171.000000  \n",
       "mean     1012.727028      77.037092     190.340342      60.610234  \n",
       "std        11.703424      13.524969      89.130387      23.271634  \n",
       "min       979.000000      25.000000       0.000000       0.000000  \n",
       "25%      1005.000000      68.000000     130.000000      40.000000  \n",
       "50%      1014.000000      77.000000     210.000000      75.000000  \n",
       "75%      1021.000000      87.000000     260.000000      75.000000  \n",
       "max      1041.000000     100.000000     360.000000     100.000000  "
      ]
     },
     "execution_count": 32,
     "metadata": {},
     "output_type": "execute_result"
    }
   ],
   "source": [
    "df_clean[ints].describe()"
   ]
  },
  {
   "cell_type": "markdown",
   "metadata": {},
   "source": [
    "Negative values for durations need to be inspected closer:"
   ]
  },
  {
   "cell_type": "code",
   "execution_count": 33,
   "metadata": {},
   "outputs": [
    {
     "data": {
      "text/html": [
       "<div>\n",
       "<style scoped>\n",
       "    .dataframe tbody tr th:only-of-type {\n",
       "        vertical-align: middle;\n",
       "    }\n",
       "\n",
       "    .dataframe tbody tr th {\n",
       "        vertical-align: top;\n",
       "    }\n",
       "\n",
       "    .dataframe thead th {\n",
       "        text-align: right;\n",
       "    }\n",
       "</style>\n",
       "<table border=\"1\" class=\"dataframe\">\n",
       "  <thead>\n",
       "    <tr style=\"text-align: right;\">\n",
       "      <th></th>\n",
       "      <th>daystamp</th>\n",
       "      <th>progr_number</th>\n",
       "      <th>stop_id</th>\n",
       "      <th>arr_p</th>\n",
       "      <th>arr_a</th>\n",
       "      <th>dep_p</th>\n",
       "      <th>dep_a</th>\n",
       "      <th>end_p</th>\n",
       "      <th>start_p</th>\n",
       "      <th>start_a</th>\n",
       "      <th>...</th>\n",
       "      <th>wind_deg</th>\n",
       "      <th>clouds_all</th>\n",
       "      <th>weather_description</th>\n",
       "      <th>dt</th>\n",
       "      <th>weekday</th>\n",
       "      <th>month</th>\n",
       "      <th>hour</th>\n",
       "      <th>holiday</th>\n",
       "      <th>dur_s</th>\n",
       "      <th>dur_a</th>\n",
       "    </tr>\n",
       "  </thead>\n",
       "  <tbody>\n",
       "    <tr>\n",
       "      <th>3996</th>\n",
       "      <td>1523314800</td>\n",
       "      <td>2</td>\n",
       "      <td>396</td>\n",
       "      <td>72075</td>\n",
       "      <td>72102</td>\n",
       "      <td>72075</td>\n",
       "      <td>72135</td>\n",
       "      <td>74555</td>\n",
       "      <td>72000</td>\n",
       "      <td>73755.0</td>\n",
       "      <td>...</td>\n",
       "      <td>30</td>\n",
       "      <td>75</td>\n",
       "      <td>light intensity drizzle</td>\n",
       "      <td>1523386875</td>\n",
       "      <td>1</td>\n",
       "      <td>4</td>\n",
       "      <td>20</td>\n",
       "      <td>0</td>\n",
       "      <td>75</td>\n",
       "      <td>-1620</td>\n",
       "    </tr>\n",
       "    <tr>\n",
       "      <th>3997</th>\n",
       "      <td>1523314800</td>\n",
       "      <td>3</td>\n",
       "      <td>397</td>\n",
       "      <td>72116</td>\n",
       "      <td>72222</td>\n",
       "      <td>72116</td>\n",
       "      <td>72241</td>\n",
       "      <td>74555</td>\n",
       "      <td>72000</td>\n",
       "      <td>73755.0</td>\n",
       "      <td>...</td>\n",
       "      <td>30</td>\n",
       "      <td>75</td>\n",
       "      <td>light intensity drizzle</td>\n",
       "      <td>1523386916</td>\n",
       "      <td>1</td>\n",
       "      <td>4</td>\n",
       "      <td>20</td>\n",
       "      <td>0</td>\n",
       "      <td>116</td>\n",
       "      <td>-1514</td>\n",
       "    </tr>\n",
       "    <tr>\n",
       "      <th>3998</th>\n",
       "      <td>1523314800</td>\n",
       "      <td>4</td>\n",
       "      <td>398</td>\n",
       "      <td>72177</td>\n",
       "      <td>72269</td>\n",
       "      <td>72177</td>\n",
       "      <td>72284</td>\n",
       "      <td>74555</td>\n",
       "      <td>72000</td>\n",
       "      <td>73755.0</td>\n",
       "      <td>...</td>\n",
       "      <td>30</td>\n",
       "      <td>75</td>\n",
       "      <td>light intensity drizzle</td>\n",
       "      <td>1523386977</td>\n",
       "      <td>1</td>\n",
       "      <td>4</td>\n",
       "      <td>20</td>\n",
       "      <td>0</td>\n",
       "      <td>177</td>\n",
       "      <td>-1471</td>\n",
       "    </tr>\n",
       "    <tr>\n",
       "      <th>3999</th>\n",
       "      <td>1523314800</td>\n",
       "      <td>5</td>\n",
       "      <td>399</td>\n",
       "      <td>72227</td>\n",
       "      <td>72309</td>\n",
       "      <td>72227</td>\n",
       "      <td>72320</td>\n",
       "      <td>74555</td>\n",
       "      <td>72000</td>\n",
       "      <td>73755.0</td>\n",
       "      <td>...</td>\n",
       "      <td>30</td>\n",
       "      <td>75</td>\n",
       "      <td>light intensity drizzle</td>\n",
       "      <td>1523387027</td>\n",
       "      <td>1</td>\n",
       "      <td>4</td>\n",
       "      <td>20</td>\n",
       "      <td>0</td>\n",
       "      <td>227</td>\n",
       "      <td>-1435</td>\n",
       "    </tr>\n",
       "    <tr>\n",
       "      <th>4000</th>\n",
       "      <td>1523314800</td>\n",
       "      <td>6</td>\n",
       "      <td>400</td>\n",
       "      <td>72316</td>\n",
       "      <td>72424</td>\n",
       "      <td>72316</td>\n",
       "      <td>72443</td>\n",
       "      <td>74555</td>\n",
       "      <td>72000</td>\n",
       "      <td>73755.0</td>\n",
       "      <td>...</td>\n",
       "      <td>30</td>\n",
       "      <td>75</td>\n",
       "      <td>light intensity drizzle</td>\n",
       "      <td>1523387116</td>\n",
       "      <td>1</td>\n",
       "      <td>4</td>\n",
       "      <td>20</td>\n",
       "      <td>0</td>\n",
       "      <td>316</td>\n",
       "      <td>-1312</td>\n",
       "    </tr>\n",
       "    <tr>\n",
       "      <th>...</th>\n",
       "      <td>...</td>\n",
       "      <td>...</td>\n",
       "      <td>...</td>\n",
       "      <td>...</td>\n",
       "      <td>...</td>\n",
       "      <td>...</td>\n",
       "      <td>...</td>\n",
       "      <td>...</td>\n",
       "      <td>...</td>\n",
       "      <td>...</td>\n",
       "      <td>...</td>\n",
       "      <td>...</td>\n",
       "      <td>...</td>\n",
       "      <td>...</td>\n",
       "      <td>...</td>\n",
       "      <td>...</td>\n",
       "      <td>...</td>\n",
       "      <td>...</td>\n",
       "      <td>...</td>\n",
       "      <td>...</td>\n",
       "      <td>...</td>\n",
       "    </tr>\n",
       "    <tr>\n",
       "      <th>595333</th>\n",
       "      <td>1527116400</td>\n",
       "      <td>4</td>\n",
       "      <td>398</td>\n",
       "      <td>58405</td>\n",
       "      <td>58458</td>\n",
       "      <td>58405</td>\n",
       "      <td>58481</td>\n",
       "      <td>61161</td>\n",
       "      <td>58200</td>\n",
       "      <td>58922.0</td>\n",
       "      <td>...</td>\n",
       "      <td>60</td>\n",
       "      <td>75</td>\n",
       "      <td>light intensity shower rain</td>\n",
       "      <td>1527174805</td>\n",
       "      <td>3</td>\n",
       "      <td>5</td>\n",
       "      <td>16</td>\n",
       "      <td>0</td>\n",
       "      <td>205</td>\n",
       "      <td>-441</td>\n",
       "    </tr>\n",
       "    <tr>\n",
       "      <th>595334</th>\n",
       "      <td>1527116400</td>\n",
       "      <td>5</td>\n",
       "      <td>399</td>\n",
       "      <td>58463</td>\n",
       "      <td>58609</td>\n",
       "      <td>58463</td>\n",
       "      <td>58656</td>\n",
       "      <td>61161</td>\n",
       "      <td>58200</td>\n",
       "      <td>58922.0</td>\n",
       "      <td>...</td>\n",
       "      <td>60</td>\n",
       "      <td>75</td>\n",
       "      <td>light intensity shower rain</td>\n",
       "      <td>1527174863</td>\n",
       "      <td>3</td>\n",
       "      <td>5</td>\n",
       "      <td>16</td>\n",
       "      <td>0</td>\n",
       "      <td>263</td>\n",
       "      <td>-266</td>\n",
       "    </tr>\n",
       "    <tr>\n",
       "      <th>595335</th>\n",
       "      <td>1527116400</td>\n",
       "      <td>6</td>\n",
       "      <td>400</td>\n",
       "      <td>58567</td>\n",
       "      <td>58723</td>\n",
       "      <td>58567</td>\n",
       "      <td>58755</td>\n",
       "      <td>61161</td>\n",
       "      <td>58200</td>\n",
       "      <td>58922.0</td>\n",
       "      <td>...</td>\n",
       "      <td>60</td>\n",
       "      <td>75</td>\n",
       "      <td>light intensity shower rain</td>\n",
       "      <td>1527174967</td>\n",
       "      <td>3</td>\n",
       "      <td>5</td>\n",
       "      <td>16</td>\n",
       "      <td>0</td>\n",
       "      <td>367</td>\n",
       "      <td>-167</td>\n",
       "    </tr>\n",
       "    <tr>\n",
       "      <th>601598</th>\n",
       "      <td>1526943600</td>\n",
       "      <td>2</td>\n",
       "      <td>396</td>\n",
       "      <td>58287</td>\n",
       "      <td>58287</td>\n",
       "      <td>58287</td>\n",
       "      <td>58320</td>\n",
       "      <td>61161</td>\n",
       "      <td>58200</td>\n",
       "      <td>58472.0</td>\n",
       "      <td>...</td>\n",
       "      <td>30</td>\n",
       "      <td>75</td>\n",
       "      <td>broken clouds</td>\n",
       "      <td>1527001887</td>\n",
       "      <td>1</td>\n",
       "      <td>5</td>\n",
       "      <td>16</td>\n",
       "      <td>0</td>\n",
       "      <td>87</td>\n",
       "      <td>-152</td>\n",
       "    </tr>\n",
       "    <tr>\n",
       "      <th>601599</th>\n",
       "      <td>1526943600</td>\n",
       "      <td>3</td>\n",
       "      <td>397</td>\n",
       "      <td>58335</td>\n",
       "      <td>58428</td>\n",
       "      <td>58335</td>\n",
       "      <td>58437</td>\n",
       "      <td>61161</td>\n",
       "      <td>58200</td>\n",
       "      <td>58472.0</td>\n",
       "      <td>...</td>\n",
       "      <td>30</td>\n",
       "      <td>75</td>\n",
       "      <td>broken clouds</td>\n",
       "      <td>1527001935</td>\n",
       "      <td>1</td>\n",
       "      <td>5</td>\n",
       "      <td>16</td>\n",
       "      <td>0</td>\n",
       "      <td>135</td>\n",
       "      <td>-35</td>\n",
       "    </tr>\n",
       "  </tbody>\n",
       "</table>\n",
       "<p>1060 rows × 28 columns</p>\n",
       "</div>"
      ],
      "text/plain": [
       "          daystamp  progr_number stop_id  arr_p  arr_a  dep_p  dep_a  end_p  \\\n",
       "3996    1523314800             2     396  72075  72102  72075  72135  74555   \n",
       "3997    1523314800             3     397  72116  72222  72116  72241  74555   \n",
       "3998    1523314800             4     398  72177  72269  72177  72284  74555   \n",
       "3999    1523314800             5     399  72227  72309  72227  72320  74555   \n",
       "4000    1523314800             6     400  72316  72424  72316  72443  74555   \n",
       "...            ...           ...     ...    ...    ...    ...    ...    ...   \n",
       "595333  1527116400             4     398  58405  58458  58405  58481  61161   \n",
       "595334  1527116400             5     399  58463  58609  58463  58656  61161   \n",
       "595335  1527116400             6     400  58567  58723  58567  58755  61161   \n",
       "601598  1526943600             2     396  58287  58287  58287  58320  61161   \n",
       "601599  1526943600             3     397  58335  58428  58335  58437  61161   \n",
       "\n",
       "        start_p  start_a  ... wind_deg  clouds_all  \\\n",
       "3996      72000  73755.0  ...       30          75   \n",
       "3997      72000  73755.0  ...       30          75   \n",
       "3998      72000  73755.0  ...       30          75   \n",
       "3999      72000  73755.0  ...       30          75   \n",
       "4000      72000  73755.0  ...       30          75   \n",
       "...         ...      ...  ...      ...         ...   \n",
       "595333    58200  58922.0  ...       60          75   \n",
       "595334    58200  58922.0  ...       60          75   \n",
       "595335    58200  58922.0  ...       60          75   \n",
       "601598    58200  58472.0  ...       30          75   \n",
       "601599    58200  58472.0  ...       30          75   \n",
       "\n",
       "                weather_description          dt  weekday  month  hour  \\\n",
       "3996        light intensity drizzle  1523386875        1      4    20   \n",
       "3997        light intensity drizzle  1523386916        1      4    20   \n",
       "3998        light intensity drizzle  1523386977        1      4    20   \n",
       "3999        light intensity drizzle  1523387027        1      4    20   \n",
       "4000        light intensity drizzle  1523387116        1      4    20   \n",
       "...                             ...         ...      ...    ...   ...   \n",
       "595333  light intensity shower rain  1527174805        3      5    16   \n",
       "595334  light intensity shower rain  1527174863        3      5    16   \n",
       "595335  light intensity shower rain  1527174967        3      5    16   \n",
       "601598                broken clouds  1527001887        1      5    16   \n",
       "601599                broken clouds  1527001935        1      5    16   \n",
       "\n",
       "        holiday  dur_s  dur_a  \n",
       "3996          0     75  -1620  \n",
       "3997          0    116  -1514  \n",
       "3998          0    177  -1471  \n",
       "3999          0    227  -1435  \n",
       "4000          0    316  -1312  \n",
       "...         ...    ...    ...  \n",
       "595333        0    205   -441  \n",
       "595334        0    263   -266  \n",
       "595335        0    367   -167  \n",
       "601598        0     87   -152  \n",
       "601599        0    135    -35  \n",
       "\n",
       "[1060 rows x 28 columns]"
      ]
     },
     "execution_count": 33,
     "metadata": {},
     "output_type": "execute_result"
    }
   ],
   "source": [
    "df_clean[df_clean.dur_a<0]"
   ]
  },
  {
   "cell_type": "code",
   "execution_count": 34,
   "metadata": {},
   "outputs": [
    {
     "name": "stdout",
     "output_type": "stream",
     "text": [
      "0.18% of the remaining data show negative durations.\n"
     ]
    }
   ],
   "source": [
    "print(f\"{df_clean[df_clean.dur_a<0].shape[0]/df_clean.shape[0]*100:.2f}% of the remaining data show negative durations.\")"
   ]
  },
  {
   "cell_type": "markdown",
   "metadata": {},
   "source": [
    "Number is low enough to justify dropping the negative rows without doing any further investigation"
   ]
  },
  {
   "cell_type": "code",
   "execution_count": 35,
   "metadata": {},
   "outputs": [],
   "source": [
    "df_clean=df_clean[df_clean.dur_a>=0]"
   ]
  },
  {
   "cell_type": "markdown",
   "metadata": {},
   "source": [
    "The last data cleaning operation refers to redundancy: As the route_id has a cardinality of 1, the stop_ids and progr_numbers of one dataset (i.e. per route and direction) have a perfectly positive correlation. As stop_id \"only\" nominal data and progr_number is ordinal (i.e. progr_number 2 comes after 1 for every trip), we will discard stop_id."
   ]
  },
  {
   "cell_type": "code",
   "execution_count": 36,
   "metadata": {},
   "outputs": [],
   "source": [
    "df_clean=df_clean.drop([\"stop_id\"],axis=1)"
   ]
  },
  {
   "cell_type": "markdown",
   "metadata": {},
   "source": [
    "<h3>Feature Selection</h3>\n",
    "<br>\n",
    "<div>Problem domain: Some categorical features, some numeric features, numeric target variable.</div>"
   ]
  },
  {
   "cell_type": "markdown",
   "metadata": {},
   "source": [
    "For categorical input, chi squared is recommended.\n",
    "For numerical input, ANOVA f-test (\"Analysis of Variance\") or Mutual Information Statistics are used:"
   ]
  },
  {
   "cell_type": "code",
   "execution_count": 37,
   "metadata": {},
   "outputs": [],
   "source": [
    "y=df_clean[\"dur_a\"]\n",
    "X=df_clean.drop([\"dur_a\"],axis=1)"
   ]
  },
  {
   "cell_type": "code",
   "execution_count": 38,
   "metadata": {},
   "outputs": [],
   "source": [
    "X_train,X_test,y_train,y_test=train_test_split(X,y,test_size=0.3,random_state=1)"
   ]
  },
  {
   "cell_type": "code",
   "execution_count": 39,
   "metadata": {},
   "outputs": [],
   "source": [
    "categorical=X_train.columns[X_train.dtypes==\"category\"]"
   ]
  },
  {
   "cell_type": "code",
   "execution_count": 40,
   "metadata": {},
   "outputs": [],
   "source": [
    "X_train_categorical=X_train[categorical]"
   ]
  },
  {
   "cell_type": "code",
   "execution_count": 41,
   "metadata": {},
   "outputs": [],
   "source": [
    "X_test_categorical=X_test[categorical]"
   ]
  },
  {
   "cell_type": "code",
   "execution_count": 42,
   "metadata": {},
   "outputs": [],
   "source": [
    "X_train_enc=pd.get_dummies(X_train_categorical,drop_first=True)\n",
    "X_test_enc=pd.get_dummies(X_test_categorical,drop_first=True)"
   ]
  },
  {
   "cell_type": "code",
   "execution_count": 43,
   "metadata": {},
   "outputs": [],
   "source": [
    "dummy_columns=list(X_train_enc.columns)"
   ]
  },
  {
   "cell_type": "code",
   "execution_count": 44,
   "metadata": {},
   "outputs": [],
   "source": [
    "fs=SelectKBest(score_func=f_regression, k='all')\n",
    "fs.fit(X_train_enc,y_train)\n",
    "X_train_fs=fs.transform(X_train_enc)\n",
    "X_test_fs=fs.transform(X_test_enc)"
   ]
  },
  {
   "cell_type": "code",
   "execution_count": 45,
   "metadata": {},
   "outputs": [
    {
     "name": "stdout",
     "output_type": "stream",
     "text": [
      "Feature weather_main_Clouds: 0.5970154984110208\n",
      "Feature weather_main_Drizzle: 151.2164607313343\n",
      "Feature weather_main_Fog: 31.44011301250461\n",
      "Feature weather_main_Mist: 4.349160427633949\n",
      "Feature weather_main_Rain: 159.38427338363388\n",
      "Feature weather_main_Smoke: 1.6369344806169381\n",
      "Feature weather_main_Snow: 19.010046958213383\n",
      "Feature weather_description_broken clouds: 1.279391535564992\n",
      "Feature weather_description_drizzle: 14.529304136674707\n",
      "Feature weather_description_few clouds: 14.978080271678147\n",
      "Feature weather_description_fog: 31.44011301250461\n",
      "Feature weather_description_heavy intensity rain: 34.23495164378041\n",
      "Feature weather_description_light intensity drizzle: 29.661678152030433\n",
      "Feature weather_description_light intensity drizzle rain: 158.54732805688545\n",
      "Feature weather_description_light intensity shower rain: 42.182572146691825\n",
      "Feature weather_description_light rain: 11.433768284886654\n",
      "Feature weather_description_light shower snow: 0.19520215734553778\n",
      "Feature weather_description_light snow: 43.57055432267923\n",
      "Feature weather_description_mist: 4.349160427633949\n",
      "Feature weather_description_moderate rain: 3.6870300493750205\n",
      "Feature weather_description_overcast clouds: 146.9627977853691\n",
      "Feature weather_description_proximity shower rain: 288.0473255269443\n",
      "Feature weather_description_scattered clouds: 56.65195652668171\n",
      "Feature weather_description_shower rain: 8.634853530630583\n",
      "Feature weather_description_sky is clear: 17.779474469913986\n",
      "Feature weather_description_smoke: 1.6369344806169381\n",
      "Feature weekday_1: 291.07934262171824\n",
      "Feature weekday_2: 445.0075697798938\n",
      "Feature weekday_3: 908.9437288468258\n",
      "Feature weekday_4: 1371.0445659072204\n",
      "Feature weekday_5: 2061.4810778763776\n",
      "Feature weekday_6: 3886.5984953202847\n",
      "Feature month_2: 2.0526923539407678\n",
      "Feature month_3: 5.183793788994904\n",
      "Feature month_4: 4.073029160338979\n",
      "Feature month_5: 0.6179142804027569\n",
      "Feature month_6: 55.836079058977546\n",
      "Feature month_7: 75.1258857300267\n",
      "Feature month_8: 88.28508229785052\n",
      "Feature month_9: 2.707390058389132\n",
      "Feature month_10: 35.441138823285314\n",
      "Feature month_11: 362.8959997404366\n",
      "Feature month_12: 1.2608173856430207\n",
      "Feature hour_1: 0.4883989297526406\n",
      "Feature hour_6: 7785.666113883917\n",
      "Feature hour_7: 6643.784944862613\n",
      "Feature hour_8: 601.7896493458086\n",
      "Feature hour_9: 446.07754489950025\n",
      "Feature hour_10: 1155.555693255169\n",
      "Feature hour_11: 764.1408585108833\n",
      "Feature hour_12: 143.0996294746098\n",
      "Feature hour_13: 0.15033418456534653\n",
      "Feature hour_14: 29.21765008348926\n",
      "Feature hour_15: 152.74451219682254\n",
      "Feature hour_16: 1732.9403074346658\n",
      "Feature hour_17: 7409.386731345382\n",
      "Feature hour_18: 14730.049853577812\n",
      "Feature hour_19: 3093.5349662167664\n",
      "Feature hour_20: 72.29755781912219\n",
      "Feature hour_21: 245.475888255135\n",
      "Feature hour_22: 1128.1034035466248\n",
      "Feature hour_23: 2181.934310284711\n",
      "Feature holiday_1: 1232.924142150432\n"
     ]
    }
   ],
   "source": [
    "for i in range(len(fs.scores_)):\n",
    "    print(f'Feature {dummy_columns[i]}: {fs.scores_[i]}')"
   ]
  },
  {
   "cell_type": "code",
   "execution_count": 46,
   "metadata": {},
   "outputs": [
    {
     "data": {
      "image/png": "[encoded data removed]",
      "text/plain": [
       "<Figure size 1152x648 with 1 Axes>"
      ]
     },
     "metadata": {
      "needs_background": "light"
     },
     "output_type": "display_data"
    }
   ],
   "source": [
    "plt.figure(figsize=(16,9))\n",
    "ax = sns.barplot(x=dummy_columns, y=fs.scores_,palette=\"Blues_d\")\n",
    "ax.set_xticklabels(ax.get_xticklabels(), rotation=90, ha=\"right\")\n",
    "plt.show()"
   ]
  },
  {
   "cell_type": "markdown",
   "metadata": {},
   "source": [
    "<div>Both weather features seem to not have a significant influence on the target feature as they dwarf in comparison. as weather is demanded in the project deliverables, we will keep it for now and test models with the detailed description, the low cardinality description, and without weather.</div>\n",
    "<br>\n",
    "<div>of the remaining features, month could have low to no influence. we will try different model configurations with and without month. weekday, hour and holiday display a strong relationship with the target variable, be it only for some of their values.</div>"
   ]
  },
  {
   "cell_type": "code",
   "execution_count": 47,
   "metadata": {},
   "outputs": [],
   "source": [
    "numeric=X_train.columns[(X_train.dtypes==\"int64\") | (X_train.dtypes==\"float64\")]"
   ]
  },
  {
   "cell_type": "code",
   "execution_count": 48,
   "metadata": {},
   "outputs": [],
   "source": [
    "corr=pd.concat([X_train[numeric], y], axis=1).corr()"
   ]
  },
  {
   "cell_type": "code",
   "execution_count": 49,
   "metadata": {},
   "outputs": [
    {
     "data": {
      "image/png": "[encoded data removed]",
      "text/plain": [
       "<Figure size 1152x648 with 2 Axes>"
      ]
     },
     "metadata": {
      "needs_background": "light"
     },
     "output_type": "display_data"
    }
   ],
   "source": [
    "plt.figure(figsize=(16,9))\n",
    "sns.heatmap(corr,xticklabels=corr.columns,yticklabels=corr.columns,linewidth=.5,cmap=\"YlGnBu\")\n",
    "plt.show()"
   ]
  },
  {
   "cell_type": "code",
   "execution_count": 50,
   "metadata": {},
   "outputs": [
    {
     "data": {
      "text/plain": [
       "humidity       -0.086136\n",
       "pressure       -0.030277\n",
       "wind_deg       -0.004576\n",
       "clouds_all     -0.002318\n",
       "feels_like      0.012569\n",
       "daystamp        0.014901\n",
       "dt              0.015214\n",
       "wind_speed      0.027148\n",
       "temp_min        0.027520\n",
       "temp_max        0.027526\n",
       "temp            0.029268\n",
       "start_p         0.119669\n",
       "start_a         0.119933\n",
       "end_p           0.127738\n",
       "dep_p           0.160588\n",
       "arr_p           0.160588\n",
       "dep_a           0.168958\n",
       "arr_a           0.169032\n",
       "progr_number    0.842764\n",
       "dur_s           0.943875\n",
       "dur_a           1.000000\n",
       "Name: dur_a, dtype: float64"
      ]
     },
     "execution_count": 50,
     "metadata": {},
     "output_type": "execute_result"
    }
   ],
   "source": [
    "corr[\"dur_a\"].sort_values()"
   ]
  },
  {
   "cell_type": "code",
   "execution_count": 51,
   "metadata": {},
   "outputs": [],
   "source": [
    "high_corr=corr[\"dur_a\"][(corr[\"dur_a\"]>=0.5) | (corr[\"dur_a\"]<=-0.5)]"
   ]
  },
  {
   "cell_type": "code",
   "execution_count": 52,
   "metadata": {},
   "outputs": [],
   "source": [
    "numeric=high_corr.drop([\"dur_a\"]).index"
   ]
  },
  {
   "cell_type": "code",
   "execution_count": 53,
   "metadata": {},
   "outputs": [
    {
     "data": {
      "text/plain": [
       "Index(['progr_number', 'dur_s'], dtype='object')"
      ]
     },
     "execution_count": 53,
     "metadata": {},
     "output_type": "execute_result"
    }
   ],
   "source": [
    "numeric"
   ]
  },
  {
   "cell_type": "markdown",
   "metadata": {},
   "source": [
    "<div>above's heatmap shows that the scheduled duration and progr_number have a very strong correlation with the target value, but there is a large dropoff afterwards. namely, the temperature and other weather features have no meaningful impact on the acutal duration of a trip. due to these findings, no numerical feature but progr_number and dur_s will be considered for modelling.</div>\n",
    "<br>\n",
    "<div>furthermore, dur_s and progr_number show a strong correlation. during the modelling, we will examine whether the progr_number can be dropped.</div>"
   ]
  },
  {
   "cell_type": "code",
   "execution_count": 54,
   "metadata": {},
   "outputs": [],
   "source": [
    "X_numeric=X[numeric]"
   ]
  },
  {
   "cell_type": "markdown",
   "metadata": {},
   "source": [
    "<h3>Modelling</h3>"
   ]
  },
  {
   "cell_type": "markdown",
   "metadata": {},
   "source": [
    "In the previous section, we identified the features weather_main, weather_description, month and progr_number as potentially redundant. we will test on a linear regressor with and without these features to find out whether they are beneficial for performance. then, we will test different models that are computationally more expensive and see whether they perform superior. finally, we will choose the best performing model, and - if it is not the linear regressor - see if it performs better with other feature combinations."
   ]
  },
  {
   "cell_type": "markdown",
   "metadata": {},
   "source": [
    "<h4>Linear Regression</h4>"
   ]
  },
  {
   "cell_type": "code",
   "execution_count": 105,
   "metadata": {},
   "outputs": [
    {
     "ename": "KeyError",
     "evalue": "\"None of [Index(['weather_main', 'weather_description', 'weekday', 'month', 'hour',\\n       'holiday'],\\n      dtype='object')] are in the [columns]\"",
     "output_type": "error",
     "traceback": [
      "\u001b[1;31m---------------------------------------------------------------------------\u001b[0m",
      "\u001b[1;31mKeyError\u001b[0m                                  Traceback (most recent call last)",
      "\u001b[1;32m<ipython-input-105-f7921c5917cd>\u001b[0m in \u001b[0;36m<module>\u001b[1;34m\u001b[0m\n\u001b[1;32m----> 1\u001b[1;33m \u001b[0mX\u001b[0m\u001b[1;33m=\u001b[0m\u001b[0mpd\u001b[0m\u001b[1;33m.\u001b[0m\u001b[0mconcat\u001b[0m\u001b[1;33m(\u001b[0m\u001b[1;33m[\u001b[0m\u001b[0mX\u001b[0m\u001b[1;33m[\u001b[0m\u001b[0mcategorical\u001b[0m\u001b[1;33m]\u001b[0m\u001b[1;33m,\u001b[0m\u001b[0mX\u001b[0m\u001b[1;33m[\u001b[0m\u001b[0mnumeric\u001b[0m\u001b[1;33m]\u001b[0m\u001b[1;33m]\u001b[0m\u001b[1;33m,\u001b[0m\u001b[0maxis\u001b[0m\u001b[1;33m=\u001b[0m\u001b[1;36m1\u001b[0m\u001b[1;33m)\u001b[0m\u001b[1;33m\u001b[0m\u001b[1;33m\u001b[0m\u001b[0m\n\u001b[0m\u001b[0;32m      2\u001b[0m \u001b[0my\u001b[0m\u001b[1;33m=\u001b[0m\u001b[0mdf_clean\u001b[0m\u001b[1;33m[\u001b[0m\u001b[1;34m\"dur_a\"\u001b[0m\u001b[1;33m]\u001b[0m\u001b[1;33m\u001b[0m\u001b[1;33m\u001b[0m\u001b[0m\n",
      "\u001b[1;32mc:\\python38\\lib\\site-packages\\pandas\\core\\frame.py\u001b[0m in \u001b[0;36m__getitem__\u001b[1;34m(self, key)\u001b[0m\n\u001b[0;32m   2804\u001b[0m             \u001b[1;32mif\u001b[0m \u001b[0mis_iterator\u001b[0m\u001b[1;33m(\u001b[0m\u001b[0mkey\u001b[0m\u001b[1;33m)\u001b[0m\u001b[1;33m:\u001b[0m\u001b[1;33m\u001b[0m\u001b[1;33m\u001b[0m\u001b[0m\n\u001b[0;32m   2805\u001b[0m                 \u001b[0mkey\u001b[0m \u001b[1;33m=\u001b[0m \u001b[0mlist\u001b[0m\u001b[1;33m(\u001b[0m\u001b[0mkey\u001b[0m\u001b[1;33m)\u001b[0m\u001b[1;33m\u001b[0m\u001b[1;33m\u001b[0m\u001b[0m\n\u001b[1;32m-> 2806\u001b[1;33m             \u001b[0mindexer\u001b[0m \u001b[1;33m=\u001b[0m \u001b[0mself\u001b[0m\u001b[1;33m.\u001b[0m\u001b[0mloc\u001b[0m\u001b[1;33m.\u001b[0m\u001b[0m_get_listlike_indexer\u001b[0m\u001b[1;33m(\u001b[0m\u001b[0mkey\u001b[0m\u001b[1;33m,\u001b[0m \u001b[0maxis\u001b[0m\u001b[1;33m=\u001b[0m\u001b[1;36m1\u001b[0m\u001b[1;33m,\u001b[0m \u001b[0mraise_missing\u001b[0m\u001b[1;33m=\u001b[0m\u001b[1;32mTrue\u001b[0m\u001b[1;33m)\u001b[0m\u001b[1;33m[\u001b[0m\u001b[1;36m1\u001b[0m\u001b[1;33m]\u001b[0m\u001b[1;33m\u001b[0m\u001b[1;33m\u001b[0m\u001b[0m\n\u001b[0m\u001b[0;32m   2807\u001b[0m \u001b[1;33m\u001b[0m\u001b[0m\n\u001b[0;32m   2808\u001b[0m         \u001b[1;31m# take() does not accept boolean indexers\u001b[0m\u001b[1;33m\u001b[0m\u001b[1;33m\u001b[0m\u001b[1;33m\u001b[0m\u001b[0m\n",
      "\u001b[1;32mc:\\python38\\lib\\site-packages\\pandas\\core\\indexing.py\u001b[0m in \u001b[0;36m_get_listlike_indexer\u001b[1;34m(self, key, axis, raise_missing)\u001b[0m\n\u001b[0;32m   1550\u001b[0m             \u001b[0mkeyarr\u001b[0m\u001b[1;33m,\u001b[0m \u001b[0mindexer\u001b[0m\u001b[1;33m,\u001b[0m \u001b[0mnew_indexer\u001b[0m \u001b[1;33m=\u001b[0m \u001b[0max\u001b[0m\u001b[1;33m.\u001b[0m\u001b[0m_reindex_non_unique\u001b[0m\u001b[1;33m(\u001b[0m\u001b[0mkeyarr\u001b[0m\u001b[1;33m)\u001b[0m\u001b[1;33m\u001b[0m\u001b[1;33m\u001b[0m\u001b[0m\n\u001b[0;32m   1551\u001b[0m \u001b[1;33m\u001b[0m\u001b[0m\n\u001b[1;32m-> 1552\u001b[1;33m         self._validate_read_indexer(\n\u001b[0m\u001b[0;32m   1553\u001b[0m             \u001b[0mkeyarr\u001b[0m\u001b[1;33m,\u001b[0m \u001b[0mindexer\u001b[0m\u001b[1;33m,\u001b[0m \u001b[0mo\u001b[0m\u001b[1;33m.\u001b[0m\u001b[0m_get_axis_number\u001b[0m\u001b[1;33m(\u001b[0m\u001b[0maxis\u001b[0m\u001b[1;33m)\u001b[0m\u001b[1;33m,\u001b[0m \u001b[0mraise_missing\u001b[0m\u001b[1;33m=\u001b[0m\u001b[0mraise_missing\u001b[0m\u001b[1;33m\u001b[0m\u001b[1;33m\u001b[0m\u001b[0m\n\u001b[0;32m   1554\u001b[0m         )\n",
      "\u001b[1;32mc:\\python38\\lib\\site-packages\\pandas\\core\\indexing.py\u001b[0m in \u001b[0;36m_validate_read_indexer\u001b[1;34m(self, key, indexer, axis, raise_missing)\u001b[0m\n\u001b[0;32m   1638\u001b[0m             \u001b[1;32mif\u001b[0m \u001b[0mmissing\u001b[0m \u001b[1;33m==\u001b[0m \u001b[0mlen\u001b[0m\u001b[1;33m(\u001b[0m\u001b[0mindexer\u001b[0m\u001b[1;33m)\u001b[0m\u001b[1;33m:\u001b[0m\u001b[1;33m\u001b[0m\u001b[1;33m\u001b[0m\u001b[0m\n\u001b[0;32m   1639\u001b[0m                 \u001b[0maxis_name\u001b[0m \u001b[1;33m=\u001b[0m \u001b[0mself\u001b[0m\u001b[1;33m.\u001b[0m\u001b[0mobj\u001b[0m\u001b[1;33m.\u001b[0m\u001b[0m_get_axis_name\u001b[0m\u001b[1;33m(\u001b[0m\u001b[0maxis\u001b[0m\u001b[1;33m)\u001b[0m\u001b[1;33m\u001b[0m\u001b[1;33m\u001b[0m\u001b[0m\n\u001b[1;32m-> 1640\u001b[1;33m                 \u001b[1;32mraise\u001b[0m \u001b[0mKeyError\u001b[0m\u001b[1;33m(\u001b[0m\u001b[1;34mf\"None of [{key}] are in the [{axis_name}]\"\u001b[0m\u001b[1;33m)\u001b[0m\u001b[1;33m\u001b[0m\u001b[1;33m\u001b[0m\u001b[0m\n\u001b[0m\u001b[0;32m   1641\u001b[0m \u001b[1;33m\u001b[0m\u001b[0m\n\u001b[0;32m   1642\u001b[0m             \u001b[1;31m# We (temporarily) allow for some missing keys with .loc, except in\u001b[0m\u001b[1;33m\u001b[0m\u001b[1;33m\u001b[0m\u001b[1;33m\u001b[0m\u001b[0m\n",
      "\u001b[1;31mKeyError\u001b[0m: \"None of [Index(['weather_main', 'weather_description', 'weekday', 'month', 'hour',\\n       'holiday'],\\n      dtype='object')] are in the [columns]\""
     ]
    }
   ],
   "source": [
    "X=pd.concat([X[categorical],X[numeric]],axis=1)\n",
    "y=df_clean[\"dur_a\"]"
   ]
  },
  {
   "cell_type": "code",
   "execution_count": 106,
   "metadata": {},
   "outputs": [
    {
     "data": {
      "text/html": [
       "<div>\n",
       "<style scoped>\n",
       "    .dataframe tbody tr th:only-of-type {\n",
       "        vertical-align: middle;\n",
       "    }\n",
       "\n",
       "    .dataframe tbody tr th {\n",
       "        vertical-align: top;\n",
       "    }\n",
       "\n",
       "    .dataframe thead th {\n",
       "        text-align: right;\n",
       "    }\n",
       "</style>\n",
       "<table border=\"1\" class=\"dataframe\">\n",
       "  <thead>\n",
       "    <tr style=\"text-align: right;\">\n",
       "      <th></th>\n",
       "      <th>progr_number</th>\n",
       "      <th>dur_s</th>\n",
       "      <th>weather_description_broken clouds</th>\n",
       "      <th>weather_description_drizzle</th>\n",
       "      <th>weather_description_few clouds</th>\n",
       "      <th>weather_description_fog</th>\n",
       "      <th>weather_description_heavy intensity rain</th>\n",
       "      <th>weather_description_light intensity drizzle</th>\n",
       "      <th>weather_description_light intensity drizzle rain</th>\n",
       "      <th>weather_description_light intensity shower rain</th>\n",
       "      <th>...</th>\n",
       "      <th>hour_15</th>\n",
       "      <th>hour_16</th>\n",
       "      <th>hour_17</th>\n",
       "      <th>hour_18</th>\n",
       "      <th>hour_19</th>\n",
       "      <th>hour_20</th>\n",
       "      <th>hour_21</th>\n",
       "      <th>hour_22</th>\n",
       "      <th>hour_23</th>\n",
       "      <th>holiday_1</th>\n",
       "    </tr>\n",
       "  </thead>\n",
       "  <tbody>\n",
       "    <tr>\n",
       "      <th>0</th>\n",
       "      <td>1</td>\n",
       "      <td>0</td>\n",
       "      <td>0</td>\n",
       "      <td>0</td>\n",
       "      <td>0</td>\n",
       "      <td>0</td>\n",
       "      <td>0</td>\n",
       "      <td>0</td>\n",
       "      <td>1</td>\n",
       "      <td>0</td>\n",
       "      <td>...</td>\n",
       "      <td>0</td>\n",
       "      <td>1</td>\n",
       "      <td>0</td>\n",
       "      <td>0</td>\n",
       "      <td>0</td>\n",
       "      <td>0</td>\n",
       "      <td>0</td>\n",
       "      <td>0</td>\n",
       "      <td>0</td>\n",
       "      <td>0</td>\n",
       "    </tr>\n",
       "    <tr>\n",
       "      <th>1</th>\n",
       "      <td>2</td>\n",
       "      <td>62</td>\n",
       "      <td>0</td>\n",
       "      <td>0</td>\n",
       "      <td>0</td>\n",
       "      <td>0</td>\n",
       "      <td>0</td>\n",
       "      <td>0</td>\n",
       "      <td>1</td>\n",
       "      <td>0</td>\n",
       "      <td>...</td>\n",
       "      <td>0</td>\n",
       "      <td>1</td>\n",
       "      <td>0</td>\n",
       "      <td>0</td>\n",
       "      <td>0</td>\n",
       "      <td>0</td>\n",
       "      <td>0</td>\n",
       "      <td>0</td>\n",
       "      <td>0</td>\n",
       "      <td>0</td>\n",
       "    </tr>\n",
       "    <tr>\n",
       "      <th>2</th>\n",
       "      <td>3</td>\n",
       "      <td>96</td>\n",
       "      <td>0</td>\n",
       "      <td>0</td>\n",
       "      <td>0</td>\n",
       "      <td>0</td>\n",
       "      <td>0</td>\n",
       "      <td>0</td>\n",
       "      <td>1</td>\n",
       "      <td>0</td>\n",
       "      <td>...</td>\n",
       "      <td>0</td>\n",
       "      <td>1</td>\n",
       "      <td>0</td>\n",
       "      <td>0</td>\n",
       "      <td>0</td>\n",
       "      <td>0</td>\n",
       "      <td>0</td>\n",
       "      <td>0</td>\n",
       "      <td>0</td>\n",
       "      <td>0</td>\n",
       "    </tr>\n",
       "    <tr>\n",
       "      <th>3</th>\n",
       "      <td>4</td>\n",
       "      <td>146</td>\n",
       "      <td>0</td>\n",
       "      <td>0</td>\n",
       "      <td>0</td>\n",
       "      <td>0</td>\n",
       "      <td>0</td>\n",
       "      <td>0</td>\n",
       "      <td>1</td>\n",
       "      <td>0</td>\n",
       "      <td>...</td>\n",
       "      <td>0</td>\n",
       "      <td>1</td>\n",
       "      <td>0</td>\n",
       "      <td>0</td>\n",
       "      <td>0</td>\n",
       "      <td>0</td>\n",
       "      <td>0</td>\n",
       "      <td>0</td>\n",
       "      <td>0</td>\n",
       "      <td>0</td>\n",
       "    </tr>\n",
       "    <tr>\n",
       "      <th>4</th>\n",
       "      <td>5</td>\n",
       "      <td>187</td>\n",
       "      <td>0</td>\n",
       "      <td>0</td>\n",
       "      <td>0</td>\n",
       "      <td>0</td>\n",
       "      <td>0</td>\n",
       "      <td>0</td>\n",
       "      <td>1</td>\n",
       "      <td>0</td>\n",
       "      <td>...</td>\n",
       "      <td>0</td>\n",
       "      <td>1</td>\n",
       "      <td>0</td>\n",
       "      <td>0</td>\n",
       "      <td>0</td>\n",
       "      <td>0</td>\n",
       "      <td>0</td>\n",
       "      <td>0</td>\n",
       "      <td>0</td>\n",
       "      <td>0</td>\n",
       "    </tr>\n",
       "  </tbody>\n",
       "</table>\n",
       "<p>5 rows × 58 columns</p>\n",
       "</div>"
      ],
      "text/plain": [
       "   progr_number  dur_s  weather_description_broken clouds  \\\n",
       "0             1      0                                  0   \n",
       "1             2     62                                  0   \n",
       "2             3     96                                  0   \n",
       "3             4    146                                  0   \n",
       "4             5    187                                  0   \n",
       "\n",
       "   weather_description_drizzle  weather_description_few clouds  \\\n",
       "0                            0                               0   \n",
       "1                            0                               0   \n",
       "2                            0                               0   \n",
       "3                            0                               0   \n",
       "4                            0                               0   \n",
       "\n",
       "   weather_description_fog  weather_description_heavy intensity rain  \\\n",
       "0                        0                                         0   \n",
       "1                        0                                         0   \n",
       "2                        0                                         0   \n",
       "3                        0                                         0   \n",
       "4                        0                                         0   \n",
       "\n",
       "   weather_description_light intensity drizzle  \\\n",
       "0                                            0   \n",
       "1                                            0   \n",
       "2                                            0   \n",
       "3                                            0   \n",
       "4                                            0   \n",
       "\n",
       "   weather_description_light intensity drizzle rain  \\\n",
       "0                                                 1   \n",
       "1                                                 1   \n",
       "2                                                 1   \n",
       "3                                                 1   \n",
       "4                                                 1   \n",
       "\n",
       "   weather_description_light intensity shower rain  ...  hour_15  hour_16  \\\n",
       "0                                                0  ...        0        1   \n",
       "1                                                0  ...        0        1   \n",
       "2                                                0  ...        0        1   \n",
       "3                                                0  ...        0        1   \n",
       "4                                                0  ...        0        1   \n",
       "\n",
       "   hour_17  hour_18  hour_19  hour_20  hour_21  hour_22  hour_23  holiday_1  \n",
       "0        0        0        0        0        0        0        0          0  \n",
       "1        0        0        0        0        0        0        0          0  \n",
       "2        0        0        0        0        0        0        0          0  \n",
       "3        0        0        0        0        0        0        0          0  \n",
       "4        0        0        0        0        0        0        0          0  \n",
       "\n",
       "[5 rows x 58 columns]"
      ]
     },
     "execution_count": 106,
     "metadata": {},
     "output_type": "execute_result"
    }
   ],
   "source": [
    "X.head()"
   ]
  },
  {
   "cell_type": "code",
   "execution_count": 56,
   "metadata": {},
   "outputs": [],
   "source": [
    "X_train,X_test,y_train,y_test=train_test_split(X,y,random_state=1)"
   ]
  },
  {
   "cell_type": "code",
   "execution_count": 57,
   "metadata": {},
   "outputs": [],
   "source": [
    "#train with high cardinality weather\n",
    "X_train_moweather=pd.get_dummies(X_train.drop([\"weather_main\"],axis=1),drop_first=True)\n",
    "X_test_moweather=pd.get_dummies(X_test.drop([\"weather_main\"],axis=1),drop_first=True)"
   ]
  },
  {
   "cell_type": "code",
   "execution_count": 75,
   "metadata": {},
   "outputs": [
    {
     "name": "stdout",
     "output_type": "stream",
     "text": [
      "progr_number\n",
      "NaNs in Column: 0\n",
      "Min in Column: 1\n",
      "Max in Column: 39\n",
      "dur_s\n",
      "NaNs in Column: 0\n",
      "Min in Column: 0\n",
      "Max in Column: 3826\n",
      "weekday_1\n",
      "NaNs in Column: 0\n",
      "Min in Column: 0\n",
      "Max in Column: 1\n",
      "weekday_2\n",
      "NaNs in Column: 0\n",
      "Min in Column: 0\n",
      "Max in Column: 1\n",
      "weekday_3\n",
      "NaNs in Column: 0\n",
      "Min in Column: 0\n",
      "Max in Column: 1\n",
      "weekday_4\n",
      "NaNs in Column: 0\n",
      "Min in Column: 0\n",
      "Max in Column: 1\n",
      "weekday_5\n",
      "NaNs in Column: 0\n",
      "Min in Column: 0\n",
      "Max in Column: 1\n",
      "weekday_6\n",
      "NaNs in Column: 0\n",
      "Min in Column: 0\n",
      "Max in Column: 1\n",
      "month_2\n",
      "NaNs in Column: 0\n",
      "Min in Column: 0\n",
      "Max in Column: 1\n",
      "month_3\n",
      "NaNs in Column: 0\n",
      "Min in Column: 0\n",
      "Max in Column: 1\n",
      "month_4\n",
      "NaNs in Column: 0\n",
      "Min in Column: 0\n",
      "Max in Column: 1\n",
      "month_5\n",
      "NaNs in Column: 0\n",
      "Min in Column: 0\n",
      "Max in Column: 1\n",
      "month_6\n",
      "NaNs in Column: 0\n",
      "Min in Column: 0\n",
      "Max in Column: 1\n",
      "month_7\n",
      "NaNs in Column: 0\n",
      "Min in Column: 0\n",
      "Max in Column: 1\n",
      "month_8\n",
      "NaNs in Column: 0\n",
      "Min in Column: 0\n",
      "Max in Column: 1\n",
      "month_9\n",
      "NaNs in Column: 0\n",
      "Min in Column: 0\n",
      "Max in Column: 1\n",
      "month_10\n",
      "NaNs in Column: 0\n",
      "Min in Column: 0\n",
      "Max in Column: 1\n",
      "month_11\n",
      "NaNs in Column: 0\n",
      "Min in Column: 0\n",
      "Max in Column: 1\n",
      "month_12\n",
      "NaNs in Column: 0\n",
      "Min in Column: 0\n",
      "Max in Column: 1\n",
      "hour_1\n",
      "NaNs in Column: 0\n",
      "Min in Column: 0\n",
      "Max in Column: 1\n",
      "hour_6\n",
      "NaNs in Column: 0\n",
      "Min in Column: 0\n",
      "Max in Column: 1\n",
      "hour_7\n",
      "NaNs in Column: 0\n",
      "Min in Column: 0\n",
      "Max in Column: 1\n",
      "hour_8\n",
      "NaNs in Column: 0\n",
      "Min in Column: 0\n",
      "Max in Column: 1\n",
      "hour_9\n",
      "NaNs in Column: 0\n",
      "Min in Column: 0\n",
      "Max in Column: 1\n",
      "hour_10\n",
      "NaNs in Column: 0\n",
      "Min in Column: 0\n",
      "Max in Column: 1\n",
      "hour_11\n",
      "NaNs in Column: 0\n",
      "Min in Column: 0\n",
      "Max in Column: 1\n",
      "hour_12\n",
      "NaNs in Column: 0\n",
      "Min in Column: 0\n",
      "Max in Column: 1\n",
      "hour_13\n",
      "NaNs in Column: 0\n",
      "Min in Column: 0\n",
      "Max in Column: 1\n",
      "hour_14\n",
      "NaNs in Column: 0\n",
      "Min in Column: 0\n",
      "Max in Column: 1\n",
      "hour_15\n",
      "NaNs in Column: 0\n",
      "Min in Column: 0\n",
      "Max in Column: 1\n",
      "hour_16\n",
      "NaNs in Column: 0\n",
      "Min in Column: 0\n",
      "Max in Column: 1\n",
      "hour_17\n",
      "NaNs in Column: 0\n",
      "Min in Column: 0\n",
      "Max in Column: 1\n",
      "hour_18\n",
      "NaNs in Column: 0\n",
      "Min in Column: 0\n",
      "Max in Column: 1\n",
      "hour_19\n",
      "NaNs in Column: 0\n",
      "Min in Column: 0\n",
      "Max in Column: 1\n",
      "hour_20\n",
      "NaNs in Column: 0\n",
      "Min in Column: 0\n",
      "Max in Column: 1\n",
      "hour_21\n",
      "NaNs in Column: 0\n",
      "Min in Column: 0\n",
      "Max in Column: 1\n",
      "hour_22\n",
      "NaNs in Column: 0\n",
      "Min in Column: 0\n",
      "Max in Column: 1\n",
      "hour_23\n",
      "NaNs in Column: 0\n",
      "Min in Column: 0\n",
      "Max in Column: 1\n",
      "holiday_1\n",
      "NaNs in Column: 0\n",
      "Min in Column: 0\n",
      "Max in Column: 1\n"
     ]
    }
   ],
   "source": [
    "for column in X_train_moweather.head():\n",
    "    print(column)\n",
    "    print(f\"NaNs in Column: {X_train_moweather[column].isna().sum()}\")\n",
    "    print(f\"Min in Column: {X_train_moweather[column].min()}\")\n",
    "    print(f\"Max in Column: {X_train_moweather[column].max()}\")"
   ]
  },
  {
   "cell_type": "code",
   "execution_count": 59,
   "metadata": {},
   "outputs": [
    {
     "data": {
      "text/plain": [
       "0.8990195957426259"
      ]
     },
     "execution_count": 59,
     "metadata": {},
     "output_type": "execute_result"
    }
   ],
   "source": [
    "reg = LinearRegression().fit(X_train_moweather, y_train)\n",
    "reg.score(X_test_moweather, y_test)"
   ]
  },
  {
   "cell_type": "code",
   "execution_count": 60,
   "metadata": {},
   "outputs": [],
   "source": [
    "#train with low cardinality weather\n",
    "X_train_moweather=pd.get_dummies(X_train.drop([\"weather_description\"],axis=1),drop_first=True)\n",
    "X_test_moweather=pd.get_dummies(X_test.drop([\"weather_description\"],axis=1),drop_first=True)"
   ]
  },
  {
   "cell_type": "code",
   "execution_count": 61,
   "metadata": {},
   "outputs": [
    {
     "data": {
      "text/plain": [
       "0.8988693055012322"
      ]
     },
     "execution_count": 61,
     "metadata": {},
     "output_type": "execute_result"
    }
   ],
   "source": [
    "reg = LinearRegression().fit(X_train_moweather, y_train)\n",
    "reg.score(X_test_moweather, y_test)"
   ]
  },
  {
   "cell_type": "code",
   "execution_count": 62,
   "metadata": {},
   "outputs": [],
   "source": [
    "#train without weather\n",
    "X_train_moweather=pd.get_dummies(X_train.drop([\"weather_main\",\"weather_description\"],axis=1),drop_first=True)\n",
    "X_test_moweather=pd.get_dummies(X_test.drop([\"weather_main\",\"weather_description\"],axis=1),drop_first=True)"
   ]
  },
  {
   "cell_type": "code",
   "execution_count": 63,
   "metadata": {},
   "outputs": [
    {
     "data": {
      "text/plain": [
       "0.8987839596824255"
      ]
     },
     "execution_count": 63,
     "metadata": {},
     "output_type": "execute_result"
    }
   ],
   "source": [
    "reg = LinearRegression().fit(X_train_moweather, y_train)\n",
    "reg.score(X_test_moweather, y_test)"
   ]
  },
  {
   "cell_type": "markdown",
   "metadata": {},
   "source": [
    "The differences between the accuracies are marginal, but as the model with high cardinality weather was performing the best, we will keep it for now."
   ]
  },
  {
   "cell_type": "markdown",
   "metadata": {},
   "source": [
    "Next, we will examine whether the model can perform the same without the month feature:"
   ]
  },
  {
   "cell_type": "code",
   "execution_count": 64,
   "metadata": {},
   "outputs": [],
   "source": [
    "X_train_nomonths=pd.get_dummies(X_train.drop([\"month\",\"weather_main\"],axis=1),drop_first=True)\n",
    "X_test_nomonths=pd.get_dummies(X_test.drop([\"month\",\"weather_main\"],axis=1),drop_first=True)"
   ]
  },
  {
   "cell_type": "code",
   "execution_count": 65,
   "metadata": {},
   "outputs": [
    {
     "data": {
      "text/plain": [
       "0.8977888280418227"
      ]
     },
     "execution_count": 65,
     "metadata": {},
     "output_type": "execute_result"
    }
   ],
   "source": [
    "reg = LinearRegression().fit(X_train_nomonths, y_train)\n",
    "reg.score(X_test_nomonths, y_test)"
   ]
  },
  {
   "cell_type": "markdown",
   "metadata": {},
   "source": [
    "The model accuracy decreases slightly, so we will keep the months feature for now."
   ]
  },
  {
   "cell_type": "markdown",
   "metadata": {},
   "source": [
    "Next, we will examine whether the model performs at the same level when progr_number is dropped. the suspicion is that dur_s already holds the same information with higher explanatory power as the two features display a high correlation."
   ]
  },
  {
   "cell_type": "code",
   "execution_count": 66,
   "metadata": {},
   "outputs": [],
   "source": [
    "X_train_noprogr=pd.get_dummies(X_train.drop([\"progr_number\",\"weather_main\"],axis=1),drop_first=True)\n",
    "X_test_noprogr=pd.get_dummies(X_test.drop([\"progr_number\",\"weather_main\"],axis=1),drop_first=True)"
   ]
  },
  {
   "cell_type": "code",
   "execution_count": 67,
   "metadata": {},
   "outputs": [
    {
     "data": {
      "text/plain": [
       "0.8973549018843234"
      ]
     },
     "execution_count": 67,
     "metadata": {},
     "output_type": "execute_result"
    }
   ],
   "source": [
    "reg = LinearRegression().fit(X_train_noprogr, y_train)\n",
    "reg.score(X_test_noprogr, y_test)"
   ]
  },
  {
   "cell_type": "markdown",
   "metadata": {},
   "source": [
    "<div>As the accuracy decreases, we will keep progr_number.</div>\n",
    "<br>\n",
    "<div>In summary, we keep the detailed weather and decided to neither drop month nor progr_number."
   ]
  },
  {
   "cell_type": "markdown",
   "metadata": {},
   "source": [
    "<h4>Polynomial Regression</h4>"
   ]
  },
  {
   "cell_type": "code",
   "execution_count": 96,
   "metadata": {},
   "outputs": [],
   "source": [
    "X_large=pd.get_dummies(X.drop([\"weather_main\"],axis=1),drop_first=True)"
   ]
  },
  {
   "cell_type": "code",
   "execution_count": 97,
   "metadata": {},
   "outputs": [
    {
     "data": {
      "text/plain": [
       "(595111, 58)"
      ]
     },
     "execution_count": 97,
     "metadata": {},
     "output_type": "execute_result"
    }
   ],
   "source": [
    "X_large.shape"
   ]
  },
  {
   "cell_type": "code",
   "execution_count": 98,
   "metadata": {},
   "outputs": [],
   "source": [
    "X_train,X_test,y_train,y_test=train_test_split(X_large,y,random_state=1)"
   ]
  },
  {
   "cell_type": "code",
   "execution_count": 99,
   "metadata": {},
   "outputs": [
    {
     "name": "stdout",
     "output_type": "stream",
     "text": [
      "Wall time: 2min 39s\n"
     ]
    },
    {
     "data": {
      "text/plain": [
       "LinearRegression()"
      ]
     },
     "execution_count": 99,
     "metadata": {},
     "output_type": "execute_result"
    }
   ],
   "source": [
    "%%time\n",
    "#first of, let's model a polyonmial of degree 2:\n",
    "pol=PolynomialFeatures(2)\n",
    "X_train_pol=pol.fit_transform(X_train)\n",
    "X_test_pol=pol.fit_transform(X_test)\n",
    "reg=LinearRegression()\n",
    "reg.fit(X_train_pol,y_train)"
   ]
  },
  {
   "cell_type": "code",
   "execution_count": 100,
   "metadata": {},
   "outputs": [
    {
     "data": {
      "text/plain": [
       "0.9189839235931586"
      ]
     },
     "execution_count": 100,
     "metadata": {},
     "output_type": "execute_result"
    }
   ],
   "source": [
    "reg.score(X_test_pol,y_test)"
   ]
  },
  {
   "cell_type": "code",
   "execution_count": 101,
   "metadata": {},
   "outputs": [
    {
     "data": {
      "text/plain": [
       "1770"
      ]
     },
     "execution_count": 101,
     "metadata": {},
     "output_type": "execute_result"
    }
   ],
   "source": [
    "X_train_pol.shape[1]"
   ]
  },
  {
   "cell_type": "markdown",
   "metadata": {},
   "source": [
    "We can see that the shape of the columns has dramatically increased. Before doing any more experiments, let's transform a small sample to see how many features we would have for degree 3:"
   ]
  },
  {
   "cell_type": "code",
   "execution_count": 102,
   "metadata": {},
   "outputs": [],
   "source": [
    "X_sample=X.iloc[:2]"
   ]
  },
  {
   "cell_type": "code",
   "execution_count": 103,
   "metadata": {},
   "outputs": [],
   "source": [
    "pol=PolynomialFeatures(3)\n",
    "X_sample_pol=pol.fit_transform(X_sample)"
   ]
  },
  {
   "cell_type": "code",
   "execution_count": 104,
   "metadata": {},
   "outputs": [
    {
     "data": {
      "text/plain": [
       "(2, 35990)"
      ]
     },
     "execution_count": 104,
     "metadata": {},
     "output_type": "execute_result"
    }
   ],
   "source": [
    "X_sample_pol.shape"
   ]
  },
  {
   "cell_type": "markdown",
   "metadata": {},
   "source": [
    "<div>As the feature number is continuing to increase drastically, we will not consider any degree over 2 for modelling.</div>\n",
    "<br>\n",
    "<div>For n=2, the running time of > 150s is already fairly slow. Thus, we will look into how well the model performs if we use a smaller feature set that should speed up training:</div>\n"
   ]
  },
  {
   "cell_type": "code",
   "execution_count": null,
   "metadata": {},
   "outputs": [],
   "source": [
    "X_small=pd.get_dummies(X.drop([\"weather_main\",\"weather_description\",\"month\",\"progr_numer\"],axis=1),drop_first=True)"
   ]
  },
  {
   "cell_type": "code",
   "execution_count": null,
   "metadata": {},
   "outputs": [],
   "source": [
    "X_train,X_test,y_train,y_test=train_test_split(X_small,y,random_state=1)"
   ]
  },
  {
   "cell_type": "code",
   "execution_count": null,
   "metadata": {},
   "outputs": [],
   "source": [
    "%%time\n",
    "pol=PolynomialFeatures(2)\n",
    "X_train_pol=pol.fit_transform(X_train)\n",
    "X_test_pol=pol.fit_transform(X_test)\n",
    "reg=LinearRegression()\n",
    "reg.fit(X_train_pol,y_train)"
   ]
  },
  {
   "cell_type": "code",
   "execution_count": null,
   "metadata": {},
   "outputs": [],
   "source": [
    "reg.score(X_test_pol,y_test)"
   ]
  },
  {
   "cell_type": "code",
   "execution_count": null,
   "metadata": {},
   "outputs": [],
   "source": [
    "X_train_pol.shape[1]"
   ]
  },
  {
   "cell_type": "markdown",
   "metadata": {},
   "source": [
    "<h4>XGBoost</h4>"
   ]
  },
  {
   "cell_type": "code",
   "execution_count": 93,
   "metadata": {},
   "outputs": [
    {
     "name": "stdout",
     "output_type": "stream",
     "text": [
      "Wall time: 29.9 s\n"
     ]
    },
    {
     "data": {
      "text/plain": [
       "XGBRegressor(base_score=0.5, booster='gbtree', colsample_bylevel=1,\n",
       "             colsample_bynode=1, colsample_bytree=1, gamma=0, gpu_id=-1,\n",
       "             importance_type='gain', interaction_constraints='',\n",
       "             learning_rate=0.300000012, max_delta_step=0, max_depth=6,\n",
       "             min_child_weight=1, missing=nan, monotone_constraints='()',\n",
       "             n_estimators=100, n_jobs=0, num_parallel_tree=1, random_state=0,\n",
       "             reg_alpha=0, reg_lambda=1, scale_pos_weight=1, subsample=1,\n",
       "             tree_method='exact', validate_parameters=1, verbosity=None)"
      ]
     },
     "execution_count": 93,
     "metadata": {},
     "output_type": "execute_result"
    }
   ],
   "source": [
    "%%time\n",
    "#let's start with a default model\n",
    "xg_reg = xgb.XGBRegressor()\n",
    "xg_reg.fit(X_train,y_train)"
   ]
  },
  {
   "cell_type": "code",
   "execution_count": 94,
   "metadata": {},
   "outputs": [
    {
     "data": {
      "text/plain": [
       "0.9154559191915176"
      ]
     },
     "execution_count": 94,
     "metadata": {},
     "output_type": "execute_result"
    }
   ],
   "source": [
    "metrics.r2_score(y_pred=xg_reg.predict(X_test), y_true=y_test)"
   ]
  },
  {
   "cell_type": "markdown",
   "metadata": {},
   "source": [
    "On the minimal feature set, the XGBoost beats the polynomial regression and still manages to finish in under 40 seconds."
   ]
  },
  {
   "cell_type": "markdown",
   "metadata": {},
   "source": [
    "<h4>ANN</h4>"
   ]
  },
  {
   "cell_type": "code",
   "execution_count": 133,
   "metadata": {},
   "outputs": [
    {
     "name": "stdout",
     "output_type": "stream",
     "text": [
      "Wall time: 12min 30s\n"
     ]
    },
    {
     "data": {
      "text/plain": [
       "MLPRegressor()"
      ]
     },
     "execution_count": 133,
     "metadata": {},
     "output_type": "execute_result"
    }
   ],
   "source": [
    "\"\"\"\n",
    "%%time\n",
    "mlp_reg = MLPRegressor()\n",
    "mlp_reg.fit(X_train,y_train)\n",
    "\"\"\""
   ]
  },
  {
   "cell_type": "code",
   "execution_count": 135,
   "metadata": {},
   "outputs": [
    {
     "data": {
      "text/plain": [
       "0.9118939446289437"
      ]
     },
     "execution_count": 135,
     "metadata": {},
     "output_type": "execute_result"
    }
   ],
   "source": [
    "\"\"\"\n",
    "metrics.r2_score(y_pred=mlp_reg.predict(X_test), y_true=y_test)\n",
    "\"\"\""
   ]
  },
  {
   "cell_type": "markdown",
   "metadata": {},
   "source": [
    "Perform grid search to find best MLP"
   ]
  },
  {
   "cell_type": "code",
   "execution_count": null,
   "metadata": {},
   "outputs": [],
   "source": [
    "\"\"\"\n",
    "mlp_opt = MLPRegressor(max_iter=100,verbose=1)\n",
    "param_space = {\n",
    "    'hidden_layer_sizes': [(50,50,50), (50,100,50), (100,)],\n",
    "    'activation': ['tanh', 'relu','logistic'],\n",
    "    'solver': ['sgd', 'adam'],\n",
    "    'alpha': [0.0001, 0.05],\n",
    "    'learning_rate': ['constant','adaptive'],\n",
    "}\n",
    "\"\"\""
   ]
  },
  {
   "cell_type": "code",
   "execution_count": null,
   "metadata": {},
   "outputs": [],
   "source": [
    "\"\"\"\n",
    "%%time\n",
    "clf=GridSearchCV(mlp_opt, param_space, n_jobs=-1, cv=3)\n",
    "\"\"\""
   ]
  },
  {
   "cell_type": "code",
   "execution_count": null,
   "metadata": {},
   "outputs": [],
   "source": [
    "\"\"\"\n",
    "clf.fit(X_min,y)\n",
    "\"\"\""
   ]
  },
  {
   "cell_type": "markdown",
   "metadata": {},
   "source": [
    "<h4>Support Vector Regression</h4>"
   ]
  },
  {
   "cell_type": "markdown",
   "metadata": {},
   "source": [
    "<h4>Random Forest Regression</h4>"
   ]
  },
  {
   "cell_type": "markdown",
   "metadata": {},
   "source": [
    "<h4>LSTM</h4>\n",
    "<br>\n",
    "<div>LSTMs are recurrent neural network that learn from a temporal relationship in the data. Successfully training and implementing a LSTM requires that there is a trend over time in a temporal relationship and that the value of earlier time periods can be used for later time periods in practice. The following temporal relationships exist in the data.</div>\n",
    "<br>\n",
    "<ul>\n",
    "    <li>month: This is not fit for LSTM as there is no clear trend in the months</li>\n",
    "    <li>hour: This could be a promising candidate for LSTM as there is a clear bimodal trend in the distribution. However, the backend of our web application currently does not allow us to capture the all travelling times over the duration of a day, so this approach cannot be employed in practice at this time</li>\n",
    "    <li>dur_a over progression of trip (not depicted above): Assuming a trip from x to y, it can be logically reasoned that there must be a relationship between dur_a at stop x and dur_a at stop y. However, we do not have access to dur_a in real time in our backend, so a model trained on this relationship is not practical at this time.</li>"
   ]
  },
  {
   "cell_type": "code",
   "execution_count": null,
   "metadata": {},
   "outputs": [],
   "source": []
  }
 ],
 "metadata": {
  "kernelspec": {
   "display_name": "Python 3",
   "language": "python",
   "name": "python3"
  },
  "language_info": {
   "codemirror_mode": {
    "name": "ipython",
    "version": 3
   },
   "file_extension": ".py",
   "mimetype": "text/x-python",
   "name": "python",
   "nbconvert_exporter": "python",
   "pygments_lexer": "ipython3",
   "version": "3.8.3"
  }
 },
 "nbformat": 4,
 "nbformat_minor": 4
}
