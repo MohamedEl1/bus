{
 "cells": [
  {
   "cell_type": "code",
   "execution_count": 1,
   "metadata": {},
   "outputs": [],
   "source": [
    "import pandas as pd, json\n",
    "\n",
    "from sqlalchemy import create_engine\n",
    "from config import config"
   ]
  },
  {
   "cell_type": "code",
   "execution_count": 2,
   "metadata": {},
   "outputs": [],
   "source": [
    "config=config()\n",
    "engine=create_engine(\"postgresql://\"+config[\"user\"]+\":\"+config[\"password\"]+\"@\"+config[\"host\"]+\"/\"+config[\"database\"])"
   ]
  },
  {
   "cell_type": "code",
   "execution_count": 3,
   "metadata": {},
   "outputs": [],
   "source": [
    "sql=(\"select trips.line_id,trips.direction,count(*) \"\n",
    "\"from trips, leavetimes as lt \"\n",
    "\"where trips.daystamp=lt.daystamp and trips.trip_id=lt.trip_id \"\n",
    "\"group by trips.line_id,trips.direction;\")"
   ]
  },
  {
   "cell_type": "code",
   "execution_count": null,
   "metadata": {},
   "outputs": [],
   "source": [
    "df = pd.read_sql(sql,engine)"
   ]
  },
  {
   "cell_type": "code",
   "execution_count": null,
   "metadata": {},
   "outputs": [],
   "source": [
    "df.columns"
   ]
  },
  {
   "cell_type": "code",
   "execution_count": null,
   "metadata": {},
   "outputs": [],
   "source": [
    "sorted_lines=df.sort_values(by=[\"count\"],ascending=False,ignore_index=True)"
   ]
  },
  {
   "cell_type": "code",
   "execution_count": null,
   "metadata": {},
   "outputs": [],
   "source": [
    "sorted_lines.to_csv(\"line_counts.csv\")"
   ]
  },
  {
   "cell_type": "code",
   "execution_count": null,
   "metadata": {},
   "outputs": [],
   "source": [
    "def create_snake(index_length,snake_length):\n",
    "    \"\"\"creates a list of indexes from 0 to (snake_length-1) in snake order\"\"\"\n",
    "    snake_list=[]\n",
    "    for i in range(index_length):\n",
    "        if i//(snake_length)%2==0:\n",
    "            index=i%snake_length\n",
    "        else:\n",
    "            index=snake_length-1-i%snake_length\n",
    "        snake_list.append(index)\n",
    "    return snake_list"
   ]
  },
  {
   "cell_type": "code",
   "execution_count": null,
   "metadata": {},
   "outputs": [],
   "source": [
    "modellers=[\"yuqian\",\"callum\",\"jakob\"]"
   ]
  },
  {
   "cell_type": "code",
   "execution_count": null,
   "metadata": {},
   "outputs": [],
   "source": [
    "def assign_models(sorted_lines,modellers):\n",
    "    model_count=sorted_lines.shape[0]\n",
    "    assignment={}\n",
    "    for modeller in modellers:\n",
    "        assignment[modeller]=[]\n",
    "    snake=create_snake(model_count,len(modellers))\n",
    "    for i in range(model_count):\n",
    "        modeller=modellers[snake[i]]\n",
    "        row=sorted_lines.iloc[i]\n",
    "        assignment[modeller].append([str(row[\"line_id\"]),int(row[\"direction\"]),int(row[\"count\"])])\n",
    "    return assignment"
   ]
  },
  {
   "cell_type": "code",
   "execution_count": null,
   "metadata": {},
   "outputs": [],
   "source": [
    "assignment=assign_models(sorted_lines,modellers)"
   ]
  },
  {
   "cell_type": "code",
   "execution_count": null,
   "metadata": {},
   "outputs": [],
   "source": [
    "assignment"
   ]
  },
  {
   "cell_type": "code",
   "execution_count": null,
   "metadata": {},
   "outputs": [],
   "source": [
    "for modeller in assignment:\n",
    "    sum_rows=0\n",
    "    for row in assignment[modeller]:\n",
    "        sum_rows+=row[2]\n",
    "    print(f\"{modeller} trains {sum_rows} rows.\")"
   ]
  },
  {
   "cell_type": "code",
   "execution_count": null,
   "metadata": {},
   "outputs": [],
   "source": [
    "with open('assignment.json', 'w') as json_file:\n",
    "  json.dump(assignment, json_file)"
   ]
  }
 ],
 "metadata": {
  "kernelspec": {
   "display_name": "Python 3",
   "language": "python",
   "name": "python3"
  },
  "language_info": {
   "codemirror_mode": {
    "name": "ipython",
    "version": 3
   },
   "file_extension": ".py",
   "mimetype": "text/x-python",
   "name": "python",
   "nbconvert_exporter": "python",
   "pygments_lexer": "ipython3",
   "version": "3.8.3"
  }
 },
 "nbformat": 4,
 "nbformat_minor": 4
}
