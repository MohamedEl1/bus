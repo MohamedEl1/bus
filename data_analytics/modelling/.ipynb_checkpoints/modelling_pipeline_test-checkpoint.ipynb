{
 "cells": [
  {
   "cell_type": "code",
   "execution_count": 1,
   "metadata": {},
   "outputs": [],
   "source": [
    "import pandas as pd, numpy as np, holidays, seaborn as sns, matplotlib.pyplot as plt, time, xgboost as xgb\n",
    "from sqlalchemy import create_engine\n",
    "from datetime import datetime\n",
    "from matplotlib import pyplot\n",
    "\n",
    "from sklearn.neural_network import MLPRegressor\n",
    "from sklearn.model_selection import train_test_split, GridSearchCV, cross_val_score\n",
    "from sklearn.preprocessing import LabelEncoder, PolynomialFeatures, StandardScaler\n",
    "from sklearn.feature_selection import SelectKBest, f_regression, chi2\n",
    "from sklearn.linear_model import LinearRegression, SGDRegressor\n",
    "from sklearn.pipeline import make_pipeline\n",
    "from sklearn.svm import LinearSVR\n",
    "from sklearn.ensemble import RandomForestRegressor\n",
    "from sklearn import metrics\n",
    "\n",
    "from config import config"
   ]
  },
  {
   "cell_type": "markdown",
   "metadata": {},
   "source": [
    "<h2>Data Collection</h2>"
   ]
  },
  {
   "cell_type": "code",
   "execution_count": 2,
   "metadata": {},
   "outputs": [],
   "source": [
    "#establish connection to db and retrieve data\n",
    "config=config()\n",
    "engine=create_engine(\"postgresql://\"+config[\"user\"]+\":\"+config[\"password\"]+\"@\"+config[\"host\"]+\"/\"+config[\"database\"])\n",
    "line='39A'\n",
    "direction=1\n",
    "sql=(\"SELECT lt.daystamp, lt.progr_number, lt.stoppoint_id,lt.arrival_time_p,lt.arrival_time_a,\"\n",
    "    \"lt.departure_time_p,lt.departure_time_a,trips.route_id,\"\n",
    "     \"trips.arrival_time_p,trips.departure_time_p,trips.departure_time_a,\"\n",
    "     \"weather_main,temp,feels_like,temp_min,temp_max,pressure,humidity,wind_speed,wind_deg,clouds_all,weather_description \"\n",
    "     \"FROM leavetimes AS lt, trips, weather \"\n",
    "     \"WHERE trips.line_id='\"+line+\"' AND trips.direction=\"+str(direction)+\" AND trips.suppressed=0 \"\n",
    "     \"AND lt.daystamp = trips.daystamp AND lt.trip_id = trips.trip_id AND lt.suppressed=0\"\n",
    "     \"AND lt.weather_id = weather.daytime\")\n",
    "df = pd.read_sql(sql,engine)"
   ]
  },
  {
   "cell_type": "code",
   "execution_count": 3,
   "metadata": {},
   "outputs": [],
   "source": [
    "#renames the features of the dataframe\n",
    "features=list(df.columns)\n",
    "features[0]=\"daystamp\"\n",
    "features[2]=\"stop_id\"\n",
    "features[3]=\"arr_p\"\n",
    "features[4]=\"arr_a\"\n",
    "features[5]=\"dep_p\"\n",
    "features[6]=\"dep_a\"\n",
    "features[8]=\"end_p\"\n",
    "features[9]=\"start_p\"\n",
    "features[10]=\"start_a\"\n",
    "df.columns=features"
   ]
  },
  {
   "cell_type": "code",
   "execution_count": 4,
   "metadata": {},
   "outputs": [],
   "source": [
    "def daystamp_converter(time):\n",
    "    \"\"\"extracts and returns tuple of (weekday,month,hour,holiday) from datetime object.\"\"\"\n",
    "    date=datetime.fromtimestamp(time)\n",
    "    holidays_IE=holidays.Ireland()\n",
    "    if date in holidays_IE:\n",
    "        holiday=1\n",
    "    else:\n",
    "        holiday=0\n",
    "    return (date.weekday(),date.month,date.hour,holiday)"
   ]
  },
  {
   "cell_type": "code",
   "execution_count": 5,
   "metadata": {},
   "outputs": [],
   "source": [
    "#convert time specific data from the dataframe\n",
    "df[\"dt\"]=df.daystamp.values+df.dep_p.values\n",
    "df[\"weekday\"],df[\"month\"],df[\"hour\"],df[\"holiday\"]=zip(*df['dt'].apply(daystamp_converter))\n",
    "df[\"dur_s\"]=df.dep_p.values-df.start_p.values\n",
    "df[\"dur_a\"]=df.dep_a.values-df.start_a.values"
   ]
  },
  {
   "cell_type": "markdown",
   "metadata": {},
   "source": [
    "<h2>Feature Cleaning</h2>"
   ]
  },
  {
   "cell_type": "code",
   "execution_count": 40,
   "metadata": {},
   "outputs": [],
   "source": [
    "#create log dict\n",
    "logs={\n",
    "    \"rows\":{\n",
    "        \"start\":df.shape[0]\n",
    "    }\n",
    "}"
   ]
  },
  {
   "cell_type": "code",
   "execution_count": 41,
   "metadata": {},
   "outputs": [],
   "source": [
    "#filter out uncommon routes\n",
    "routes=df.route_id.value_counts().index[0]\n",
    "df_clean=df[df.route_id==routes]\n",
    "rows_routes=df_clean.shape[0]\n",
    "logs[\"rows\"][\"route_filter\"]=rows_routes-logs[\"rows\"][\"start\"]"
   ]
  },
  {
   "cell_type": "code",
   "execution_count": 42,
   "metadata": {},
   "outputs": [],
   "source": [
    "#remove null values\n",
    "df_clean = df_clean.dropna(axis = 0, how ='any') \n",
    "rows_after_nan=df_clean.shape[0]\n",
    "logs[\"rows\"][\"nan_filter\"]=rows_after_nan-rows_routes"
   ]
  },
  {
   "cell_type": "code",
   "execution_count": 43,
   "metadata": {},
   "outputs": [],
   "source": [
    "#calculate ratio of least to most visited stop\n",
    "stop_counts=df_clean.stop_id.value_counts()\n",
    "logs[\"scr\"]=min(stop_counts)/max(stop_counts)"
   ]
  },
  {
   "cell_type": "code",
   "execution_count": 44,
   "metadata": {},
   "outputs": [],
   "source": [
    "#assign features to type\n",
    "categorical=[\"stop_id\",\"route_id\",\"weather_main\",\"weather_description\",\"weekday\",\"month\",\"hour\",\"holiday\"]\n",
    "ints=['daystamp','progr_number','arr_p','arr_a','dep_p','dep_a','dur_s','dur_a','pressure','humidity','wind_deg','clouds_all']\n",
    "floats=['temp','feels_like','temp_min','temp_max','wind_speed']"
   ]
  },
  {
   "cell_type": "code",
   "execution_count": 45,
   "metadata": {},
   "outputs": [],
   "source": [
    "#clean up dataframe\n",
    "df_clean=df_clean.drop([\"route_id\"],axis=1)\n",
    "df_clean[ints]=df_clean[ints].astype('int64')\n",
    "df_clean=df_clean[df_clean.dur_a>=0]\n",
    "rows_after_dur=df_clean.shape[0]\n",
    "logs[\"rows\"][\"negative_dur\"]=rows_after_dur-rows_after_nan\n",
    "df_clean=df_clean.drop([\"stop_id\"],axis=1)"
   ]
  },
  {
   "cell_type": "code",
   "execution_count": 46,
   "metadata": {},
   "outputs": [],
   "source": [
    "#create dataframe with means and standard deviations per progr_number\n",
    "dur_stats_df=pd.DataFrame(columns=[\"progr_number\",\"dur_mean\",\"dur_std\"])\n",
    "for progr_number in df_clean.progr_number.unique():\n",
    "    durations=df_clean.dur_a[df_clean[\"progr_number\"]==progr_number]\n",
    "    dur_stats_df=dur_stats_df.append(pd.Series([progr_number,durations.mean(),durations.std()],index=dur_stats_df.columns),ignore_index=True)\n",
    "    dur_stats_df[\"progr_number\"]=dur_stats_df[\"progr_number\"].astype('int64')\n",
    "\n",
    "#merge duration stats with df_clean and look for outliers (outside 3 SDs from mean)\n",
    "df_clean=df_clean.merge(dur_stats_df,how='inner',on='progr_number')\n",
    "df_clean[\"outlier\"]=abs(df_clean[\"dur_a\"]-df_clean[\"dur_mean\"])>3*df_clean[\"dur_std\"]\n",
    "\n",
    "#only keep rows that aren't outliers\n",
    "df_clean=df_clean[df_clean[\"outlier\"]==False]\n",
    "rows_after_outliers=df_clean.shape[0]\n",
    "logs[\"rows\"][\"outliers\"]=rows_after_outliers-rows_after_dur"
   ]
  },
  {
   "cell_type": "code",
   "execution_count": null,
   "metadata": {},
   "outputs": [],
   "source": []
  }
 ],
 "metadata": {
  "kernelspec": {
   "display_name": "Python 3",
   "language": "python",
   "name": "python3"
  },
  "language_info": {
   "codemirror_mode": {
    "name": "ipython",
    "version": 3
   },
   "file_extension": ".py",
   "mimetype": "text/x-python",
   "name": "python",
   "nbconvert_exporter": "python",
   "pygments_lexer": "ipython3",
   "version": "3.8.3"
  }
 },
 "nbformat": 4,
 "nbformat_minor": 4
}
